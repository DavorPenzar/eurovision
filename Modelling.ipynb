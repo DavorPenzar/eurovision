{
 "cells": [
  {
   "cell_type": "code",
   "execution_count": 1,
   "id": "9cae29ba-1549-4d2d-b6fe-b58f60d3e1b6",
   "metadata": {},
   "outputs": [],
   "source": [
    "from IPython import *\n",
    "from IPython.display import *\n"
   ]
  },
  {
   "cell_type": "code",
   "execution_count": 2,
   "id": "acb946fa-f29a-4be0-81c0-6eec9f423a74",
   "metadata": {},
   "outputs": [],
   "source": [
    "import math\n",
    "import os\n",
    "import sys\n"
   ]
  },
  {
   "cell_type": "code",
   "execution_count": 3,
   "id": "3696c6d7-aee6-480c-9f91-7539926a1803",
   "metadata": {},
   "outputs": [],
   "source": [
    "import matplotlib as mpl\n",
    "import matplotlib.pyplot as plt\n",
    "import numpy as np\n",
    "import pandas as pd\n"
   ]
  },
  {
   "cell_type": "code",
   "execution_count": 4,
   "id": "39d300d7-90a6-4e4e-abc4-21fd4798eda7",
   "metadata": {},
   "outputs": [
    {
     "name": "stderr",
     "output_type": "stream",
     "text": [
      "2021-09-14 17:02:55.329628: I tensorflow/stream_executor/platform/default/dso_loader.cc:53] Successfully opened dynamic library libcudart.so.11.0\n",
      "/usr/lib/python3/dist-packages/requests/__init__.py:89: RequestsDependencyWarning: urllib3 (1.26.6) or chardet (3.0.4) doesn't match a supported version!\n",
      "  warnings.warn(\"urllib3 ({}) or chardet ({}) doesn't match a supported \"\n"
     ]
    }
   ],
   "source": [
    "import tensorflow as tf\n",
    "\n",
    "import tensorflow.keras as keras\n",
    "import tensorflow.keras.backend as K\n",
    "import tensorflow.keras.callbacks as callbacks\n",
    "import tensorflow.keras.layers as layers\n",
    "import tensorflow.keras.losses as losses\n",
    "import tensorflow.keras.metrics as metrics\n",
    "import tensorflow.keras.optimizers as optimizers\n",
    "import tensorflow.keras.utils as utils\n"
   ]
  },
  {
   "cell_type": "code",
   "execution_count": 5,
   "id": "30fc1658-9c1a-4871-99c5-081ec14c07bb",
   "metadata": {},
   "outputs": [],
   "source": [
    "import hyperopt as hopt\n"
   ]
  },
  {
   "cell_type": "code",
   "execution_count": 6,
   "id": "8c5d88ce-dbea-4076-976e-8ef073321b71",
   "metadata": {},
   "outputs": [],
   "source": [
    "import delayed_early_stopping\n"
   ]
  },
  {
   "cell_type": "code",
   "execution_count": 7,
   "id": "72e241f1-d5e7-4da0-ae99-1883d11d9903",
   "metadata": {},
   "outputs": [],
   "source": [
    "data_root = 'data'\n",
    "arrays_root = 'arrays'\n",
    "models_root = 'models'\n"
   ]
  },
  {
   "cell_type": "code",
   "execution_count": 8,
   "id": "6dac050b-2d9b-47fc-a06d-94568ae5ff55",
   "metadata": {},
   "outputs": [],
   "source": [
    "df = pd.read_csv(\n",
    "    os.path.join(data_root, 'scores.csv'),\n",
    "    sep = ';',\n",
    "    header = 0,\n",
    "    index_col = None,\n",
    "    decimal = ','\n",
    ")\n"
   ]
  },
  {
   "cell_type": "code",
   "execution_count": 9,
   "id": "64cd992d-c217-423d-9d3f-add145fab500",
   "metadata": {},
   "outputs": [],
   "source": [
    "labels = pd.read_csv(\n",
    "    os.path.join(data_root, 'labels.csv'),\n",
    "    sep = ';',\n",
    "    header = 0,\n",
    "    index_col = None,\n",
    "    decimal = ','\n",
    ")\n"
   ]
  },
  {
   "cell_type": "code",
   "execution_count": 10,
   "id": "224dd2df-10fd-4333-a2fe-646e3604e795",
   "metadata": {},
   "outputs": [],
   "source": [
    "df = df.merge(labels, how = 'left', on = 'country')\n"
   ]
  },
  {
   "cell_type": "code",
   "execution_count": 11,
   "id": "c3f80eed-ddc4-4571-ac70-80b8407693d8",
   "metadata": {},
   "outputs": [],
   "source": [
    "del labels\n"
   ]
  },
  {
   "cell_type": "code",
   "execution_count": 12,
   "id": "ec23656c-b45a-4b51-a839-f2ca3c5799ac",
   "metadata": {},
   "outputs": [],
   "source": [
    "df = df[\n",
    "    [\n",
    "        'year',\n",
    "        'country',\n",
    "        'label',\n",
    "        'score',\n",
    "        'nscore',\n",
    "        'rank',\n",
    "        'weight'\n",
    "    ]\n",
    "].reset_index(drop = True).copy(deep = True)\n"
   ]
  },
  {
   "cell_type": "code",
   "execution_count": 13,
   "id": "e415092a-48ff-4d15-9cd7-26dd9c079a3a",
   "metadata": {},
   "outputs": [],
   "source": [
    "R = np.random.default_rng(2021)\n"
   ]
  },
  {
   "cell_type": "code",
   "execution_count": 14,
   "id": "13319fb1-1b81-4e00-bac5-d4add15baf3b",
   "metadata": {},
   "outputs": [],
   "source": [
    "year = 2004\n"
   ]
  },
  {
   "cell_type": "code",
   "execution_count": 15,
   "id": "5a328539-62ab-4ee5-b30c-351c580e6f8d",
   "metadata": {},
   "outputs": [],
   "source": [
    "pc = np.load(os.path.join(models_root, str(year), 'wpca.npy'))\n"
   ]
  },
  {
   "cell_type": "code",
   "execution_count": 16,
   "id": "cb1e10d1-b737-4dd9-8511-e921481798b0",
   "metadata": {},
   "outputs": [],
   "source": [
    "loc_T = np.load(os.path.join(arrays_root, str(year), 'loc_transform.npy'))\n",
    "loc_year = np.load(os.path.join(arrays_root, str(year), 'loc_year.npy'))\n",
    "loc_time = np.load(os.path.join(arrays_root, str(year), 'loc_time.npy'))\n",
    "loc_pos = np.load(os.path.join(arrays_root, str(year), 'loc_pos.npy'))\n",
    "loc_diverse = np.load(os.path.join(arrays_root, str(year), 'loc_diverse.npy'))\n",
    "loc_score = np.load(os.path.join(arrays_root, str(year), 'loc_score.npy'))\n",
    "scale_T = np.load(os.path.join(arrays_root, str(year), 'scale_transform.npy'))\n",
    "scale_year = np.load(os.path.join(arrays_root, str(year), 'scale_year.npy'))\n",
    "scale_time = np.load(os.path.join(arrays_root, str(year), 'scale_time.npy'))\n",
    "scale_pos = np.load(os.path.join(arrays_root, str(year), 'scale_pos.npy'))\n",
    "scale_diverse = np.load(os.path.join(arrays_root, str(year), 'scale_diverse.npy'))\n",
    "scale_score = np.load(os.path.join(arrays_root, str(year), 'scale_score.npy'))\n"
   ]
  },
  {
   "cell_type": "code",
   "execution_count": 17,
   "id": "9edb8294-fa63-4ea1-b6e6-29f157b94181",
   "metadata": {},
   "outputs": [],
   "source": [
    "X_train = list()\n",
    "year_train = list()\n",
    "time_train = list()\n",
    "pos_train = list()\n",
    "diverse_train = list()\n",
    "y_train = list()\n",
    "weights_train = list()\n",
    "\n",
    "X_valid = list()\n",
    "year_valid = list()\n",
    "time_valid = list()\n",
    "pos_valid = list()\n",
    "diverse_valid = list()\n",
    "y_valid = list()\n",
    "weights_valid = list()\n",
    "\n",
    "for y in range(year - 10, year):\n",
    "    trains = np.load(os.path.join(arrays_root, str(y), 'train.npy'))\n",
    "\n",
    "    I = df.index[df.year == y]\n",
    "\n",
    "    mid_rank = float(0.5 * (I.size - 1))\n",
    "\n",
    "    for i in I:\n",
    "        c = str(np.asarray(df.loc[i, 'country']).item())\n",
    "        a = np.asarray(df.loc[i, 'year']).item()\n",
    "        s = np.asarray(df.loc[i, 'nscore']).item()\n",
    "        #s = (np.asarray(df.loc[i, 'rank']).item() <= mid_rank)\n",
    "        w = np.asarray(df.loc[i, 'weight']).item()\n",
    "\n",
    "        x = np.load(os.path.join(arrays_root, str(y), c, 'penultimate.npy'))\n",
    "        t = np.load(os.path.join(arrays_root, str(y), c, 't.npy'))\n",
    "        p = np.load(os.path.join(arrays_root, str(y), c, 'p.npy'))\n",
    "        d = np.load(os.path.join(arrays_root, str(y), c, 'diverse.npy'))\n",
    "\n",
    "        if np.asarray(df.loc[i, 'label']).item() in trains:\n",
    "            X_train.append(x)\n",
    "            year_train.append(np.full(x.shape[0], a, dtype = x.dtype))\n",
    "            time_train.append(np.full(x.shape[0], t, dtype = x.dtype))\n",
    "            pos_train.append(np.full(x.shape[0], p, dtype = x.dtype))\n",
    "            diverse_train.append(np.full(x.shape[0], d, dtype = x.dtype))\n",
    "            y_train.append(np.full(x.shape[0], s, dtype = x.dtype))\n",
    "            weights_train.append(np.full(x.shape[0], w, dtype = x.dtype))\n",
    "        else:\n",
    "            X_valid.append(x)\n",
    "            year_valid.append(np.full(x.shape[0], a, dtype = x.dtype))\n",
    "            time_valid.append(np.full(x.shape[0], t, dtype = x.dtype))\n",
    "            pos_valid.append(np.full(x.shape[0], p, dtype = x.dtype))\n",
    "            diverse_valid.append(np.full(x.shape[0], d, dtype = x.dtype))\n",
    "            y_valid.append(np.full(x.shape[0], s, dtype = x.dtype))\n",
    "            weights_valid.append(np.full(x.shape[0], w, dtype = x.dtype))\n",
    "\n",
    "        del x\n",
    "        del t\n",
    "        del p\n",
    "        del d\n",
    "\n",
    "        del c\n",
    "        del a\n",
    "        del s\n",
    "        del w\n",
    "\n",
    "    del mid_rank\n",
    "\n",
    "    del I\n",
    "\n",
    "    del trains\n",
    "\n",
    "X_train = np.concatenate(X_train, axis = 0)\n",
    "year_train = np.squeeze(np.concatenate(year_train, axis = 0))\n",
    "time_train = np.squeeze(np.concatenate(time_train, axis = 0))\n",
    "pos_train = np.squeeze(np.concatenate(pos_train, axis = 0))\n",
    "diverse_train = np.squeeze(np.concatenate(diverse_train, axis = 0))\n",
    "y_train = np.squeeze(np.concatenate(y_train, axis = 0))\n",
    "weights_train = np.squeeze(np.concatenate(weights_train, axis = 0))\n",
    "weights_train = X_train.shape[0] / math.fsum(weights_train) * weights_train\n",
    "\n",
    "X_valid = np.concatenate(X_valid, axis = 0)\n",
    "year_valid = np.squeeze(np.concatenate(year_valid, axis = 0))\n",
    "time_valid = np.squeeze(np.concatenate(time_valid, axis = 0))\n",
    "pos_valid = np.squeeze(np.concatenate(pos_valid, axis = 0))\n",
    "diverse_valid = np.squeeze(np.concatenate(diverse_valid, axis = 0))\n",
    "y_valid = np.squeeze(np.concatenate(y_valid, axis = 0))\n",
    "weights_valid = np.squeeze(np.concatenate(weights_valid, axis = 0))\n",
    "weights_valid = X_valid.shape[0] / math.fsum(weights_valid) * weights_valid\n"
   ]
  },
  {
   "cell_type": "code",
   "execution_count": 18,
   "id": "1cef4220-0bd8-41e4-a489-2a08cc755ef3",
   "metadata": {},
   "outputs": [],
   "source": [
    "n_components = 24\n"
   ]
  },
  {
   "cell_type": "code",
   "execution_count": 19,
   "id": "52bcd2c9-eacf-4914-a884-ceb0397e28c1",
   "metadata": {},
   "outputs": [],
   "source": [
    "in_train = np.concatenate(\n",
    "    (\n",
    "        np.dot(X_train, pc)[:, :n_components],\n",
    "        np.expand_dims(year_train, axis = 1),\n",
    "        np.expand_dims(time_train, axis = 1),\n",
    "        np.expand_dims(pos_train, axis = 1),\n",
    "        np.expand_dims(diverse_train, axis = 1)\n",
    "    ),\n",
    "    axis = 1\n",
    ")\n",
    "in_valid = np.concatenate(\n",
    "    (\n",
    "        np.dot(X_valid, pc)[:, :n_components],\n",
    "        np.expand_dims(year_valid, axis = 1),\n",
    "        np.expand_dims(time_valid, axis = 1),\n",
    "        np.expand_dims(pos_valid, axis = 1),\n",
    "        np.expand_dims(diverse_valid, axis = 1)\n",
    "    ),\n",
    "    axis = 1\n",
    ")\n",
    "loc_in = np.concatenate(\n",
    "    (\n",
    "        loc_T[:, :n_components],\n",
    "        [[loc_year.item()]],\n",
    "        [[loc_time.item()]],\n",
    "        [[loc_pos.item()]],\n",
    "        [[loc_diverse.item()]]\n",
    "    ),\n",
    "    axis = 1\n",
    ")\n",
    "scale_in = np.concatenate(\n",
    "    (\n",
    "        scale_T[:, :n_components],\n",
    "        [[scale_year.item()]],\n",
    "        [[scale_time.item()]],\n",
    "        [[scale_pos.item()]],\n",
    "        [[scale_diverse.item()]]\n",
    "    ),\n",
    "    axis = 1\n",
    ")\n",
    "\n",
    "out_train = y_train\n",
    "out_valid = y_valid\n",
    "loc_out = loc_score\n",
    "scale_out = scale_score\n"
   ]
  },
  {
   "cell_type": "code",
   "execution_count": 20,
   "id": "5bbb61f0-30b6-470e-8900-4b3dfcad856b",
   "metadata": {},
   "outputs": [],
   "source": [
    "n_in = loc_in.shape[1]\n",
    "n_out = loc_out.size\n"
   ]
  },
  {
   "cell_type": "code",
   "execution_count": 21,
   "id": "64ffd242-413f-4d08-a237-d0fbf09e549a",
   "metadata": {},
   "outputs": [],
   "source": [
    "adjusted_in_train = (in_train - loc_in) / scale_in\n",
    "adjusted_out_train = (out_train - loc_out) / scale_out\n",
    "\n",
    "adjusted_in_valid = (in_valid - loc_in) / scale_in\n",
    "adjusted_out_valid = (out_valid - loc_out) / scale_out\n"
   ]
  },
  {
   "cell_type": "code",
   "execution_count": 22,
   "id": "a7b6bce2-5a3e-4b41-b37d-3b852331b10c",
   "metadata": {},
   "outputs": [],
   "source": [
    "batch_size = 256\n",
    "n_epochs = 256\n",
    "early_stopping = 32\n",
    "early_stopping_delay = 32\n",
    "max_learning_rate = 5.0e-2\n",
    "max_lr_patience = 4\n"
   ]
  },
  {
   "cell_type": "code",
   "execution_count": 23,
   "id": "9ea87bd7-f27f-4829-b94e-ff0e366aea0a",
   "metadata": {},
   "outputs": [],
   "source": [
    "max_hidden_layers = 4\n",
    "max_n_units = 42\n"
   ]
  },
  {
   "cell_type": "code",
   "execution_count": 24,
   "id": "ca5476da-4089-47fa-a42f-8249115b358f",
   "metadata": {},
   "outputs": [],
   "source": [
    "inner_trials = 4\n",
    "outer_trials = 50\n",
    "\n",
    "inner_quantile = 0.75\n"
   ]
  },
  {
   "cell_type": "code",
   "execution_count": 25,
   "id": "40088383-7dd6-4207-953c-28bbf5ea1dcd",
   "metadata": {},
   "outputs": [],
   "source": [
    "def objective (space):\n",
    "    if (\n",
    "        space['hidden_layers'] < 0 or\n",
    "        space['hidden_layers'] > max_hidden_layers or\n",
    "        any(\n",
    "            (\n",
    "                space[f\"n_units_{i + 1:d}\"] < 1 or\n",
    "                space[f\"n_units_{i + 1:d}\"] > max_n_units\n",
    "            ) for i in range(int(round(space['hidden_layers'])))\n",
    "        ) or\n",
    "        space['learning_rate'] <= 0 or\n",
    "        (\n",
    "            space['reduce_lr_on_plateau'] and\n",
    "            (\n",
    "                space['lr_patience'] < 1 or\n",
    "                space['lr_factor'] <= 0 or\n",
    "                space['lr_factor'] >= 1\n",
    "            )\n",
    "        )\n",
    "    ):\n",
    "        return { 'status': hopt.STATUS_FAIL }\n",
    "\n",
    "    loss = list()\n",
    "    val_loss = list()\n",
    "\n",
    "    for i in range(inner_trials):\n",
    "        inputs = layers.Input(\n",
    "            shape = n_in,\n",
    "            name = 'input'\n",
    "        )\n",
    "        outputs = inputs\n",
    "        for i in range(int(round(space['hidden_layers']))):\n",
    "            outputs = layers.Dense(\n",
    "                units = int(round(space[f\"n_units_{i + 1:d}\"])),\n",
    "                activation = 'relu',\n",
    "                name = f\"hidden_{i + 1:d}\"\n",
    "            )(outputs)\n",
    "        outputs = layers.Dense(\n",
    "            units = n_out,\n",
    "            activation = 'linear',\n",
    "            name = 'output'\n",
    "        )(outputs)\n",
    "\n",
    "        model = keras.Model(\n",
    "            inputs = inputs,\n",
    "            outputs = outputs,\n",
    "            name = 'model'\n",
    "        )\n",
    "\n",
    "        del inputs\n",
    "        del outputs\n",
    "\n",
    "        model.compile(\n",
    "            optimizer = optimizers.Adadelta(\n",
    "                learning_rate = float(space['learning_rate'])\n",
    "            ),\n",
    "            loss = 'mean_squared_error',\n",
    "            metrics = None\n",
    "        )\n",
    "\n",
    "        cb = [\n",
    "            callbacks.TerminateOnNaN(),\n",
    "            delayed_early_stopping.DelayedEarlyStopping(\n",
    "                delay = early_stopping_delay,\n",
    "                monitor = 'val_loss',\n",
    "                patience = early_stopping,\n",
    "                mode = 'min',\n",
    "                restore_best_weights = True\n",
    "            )\n",
    "        ]\n",
    "        if space['reduce_lr_on_plateau']:\n",
    "            cb.append(\n",
    "                callbacks.ReduceLROnPlateau(\n",
    "                    monitor = 'val_loss',\n",
    "                    patience = int(round(space['lr_patience'])),\n",
    "                    mode = 'min',\n",
    "                    factor = float(space['lr_factor'])\n",
    "                )\n",
    "            )\n",
    "\n",
    "        history = model.fit(\n",
    "            x = adjusted_in_train,\n",
    "            y = adjusted_out_train,\n",
    "            sample_weight = weights_train,\n",
    "            validation_data = (\n",
    "                adjusted_in_valid,\n",
    "                adjusted_out_valid,\n",
    "                weights_valid\n",
    "            ),\n",
    "            shuffle = True,\n",
    "            batch_size = 256,\n",
    "            epochs = n_epochs,\n",
    "            verbose = 0,\n",
    "            use_multiprocessing = False,\n",
    "            callbacks = cb\n",
    "        )\n",
    "\n",
    "        del cb\n",
    "\n",
    "        this_loss = np.asarray(history.history['loss'])\n",
    "        this_val_loss = np.asarray(history.history['val_loss'])\n",
    "\n",
    "        del history\n",
    "\n",
    "        del model\n",
    "\n",
    "        if np.any(np.isnan(loss)) or np.any(np.isnan(val_loss)):\n",
    "            return { 'status': hopt.STATUS_FAIL }\n",
    "\n",
    "        loss.append(np.amin(this_loss))\n",
    "        val_loss.append(np.amin(this_val_loss))\n",
    "\n",
    "        del this_loss\n",
    "        del this_val_loss\n",
    "\n",
    "    return {\n",
    "        'status': hopt.STATUS_OK,\n",
    "        'loss': np.quantile(val_loss, q = inner_quantile)\n",
    "    }\n"
   ]
  },
  {
   "cell_type": "code",
   "execution_count": 26,
   "id": "26a2f5bf-28dc-4c6d-96c2-2a38f580fc33",
   "metadata": {},
   "outputs": [],
   "source": [
    "hp_space = {\n",
    "    'hidden_layers': hopt.hp.randint('hidden_layers', max_hidden_layers + 1),\n",
    "    'learning_rate': hopt.hp.uniform('learning_rate', 0, max_learning_rate),\n",
    "    'reduce_lr_on_plateau': hopt.hp.choice(\n",
    "        'reduce_lr_on_plateau',\n",
    "        [ False, True ]\n",
    "    ),\n",
    "    'lr_patience': 1 + hopt.hp.randint('lr_patience', max_lr_patience),\n",
    "    'lr_factor': hopt.hp.uniform('lr_factor', 0, 1)\n",
    "}\n",
    "for i in range(max_hidden_layers):\n",
    "    hp_space.update(\n",
    "        {\n",
    "            f\"n_units_{i + 1:d}\": \\\n",
    "                1 + hopt.hp.randint(f\"n_units_{i + 1:d}\", max_n_units)\n",
    "        }\n",
    "    )\n"
   ]
  },
  {
   "cell_type": "code",
   "execution_count": 27,
   "id": "3481bb1a-c46f-47ce-900d-8110a09a12cc",
   "metadata": {},
   "outputs": [
    {
     "name": "stdout",
     "output_type": "stream",
     "text": [
      "  0%|                                    | 0/50 [00:00<?, ?trial/s, best loss=?]"
     ]
    },
    {
     "name": "stderr",
     "output_type": "stream",
     "text": [
      "2021-09-14 17:03:02.981498: I tensorflow/stream_executor/platform/default/dso_loader.cc:53] Successfully opened dynamic library libcuda.so.1\n",
      "2021-09-14 17:03:03.038229: I tensorflow/stream_executor/cuda/cuda_gpu_executor.cc:937] successful NUMA node read from SysFS had negative value (-1), but there must be at least one NUMA node, so returning NUMA node zero\n",
      "2021-09-14 17:03:03.039656: I tensorflow/core/common_runtime/gpu/gpu_device.cc:1733] Found device 0 with properties: \n",
      "pciBusID: 0000:01:00.0 name: NVIDIA GeForce GTX 950M computeCapability: 5.0\n",
      "coreClock: 0.928GHz coreCount: 5 deviceMemorySize: 1.96GiB deviceMemoryBandwidth: 74.65GiB/s\n",
      "2021-09-14 17:03:03.039836: I tensorflow/stream_executor/platform/default/dso_loader.cc:53] Successfully opened dynamic library libcudart.so.11.0\n",
      "2021-09-14 17:03:03.053232: I tensorflow/stream_executor/platform/default/dso_loader.cc:53] Successfully opened dynamic library libcublas.so.11\n",
      "2021-09-14 17:03:03.053440: I tensorflow/stream_executor/platform/default/dso_loader.cc:53] Successfully opened dynamic library libcublasLt.so.11\n",
      "2021-09-14 17:03:03.059703: I tensorflow/stream_executor/platform/default/dso_loader.cc:53] Successfully opened dynamic library libcufft.so.10\n",
      "2021-09-14 17:03:03.060412: I tensorflow/stream_executor/platform/default/dso_loader.cc:53] Successfully opened dynamic library libcurand.so.10\n",
      "2021-09-14 17:03:03.061803: I tensorflow/stream_executor/platform/default/dso_loader.cc:53] Successfully opened dynamic library libcusolver.so.11\n",
      "2021-09-14 17:03:03.064113: I tensorflow/stream_executor/platform/default/dso_loader.cc:53] Successfully opened dynamic library libcusparse.so.11\n",
      "2021-09-14 17:03:03.064421: W tensorflow/stream_executor/platform/default/dso_loader.cc:64] Could not load dynamic library 'libcudnn.so.8'; dlerror: libcudnn.so.8: cannot open shared object file: No such file or directory\n",
      "2021-09-14 17:03:03.064440: W tensorflow/core/common_runtime/gpu/gpu_device.cc:1766] Cannot dlopen some GPU libraries. Please make sure the missing libraries mentioned above are installed properly if you would like to use GPU. Follow the guide at https://www.tensorflow.org/install/gpu for how to download and setup the required libraries for your platform.\n",
      "Skipping registering GPU devices...\n",
      "2021-09-14 17:03:03.064919: I tensorflow/core/platform/cpu_feature_guard.cc:142] This TensorFlow binary is optimized with oneAPI Deep Neural Network Library (oneDNN) to use the following CPU instructions in performance-critical operations:  AVX2 FMA\n",
      "To enable them in other operations, rebuild TensorFlow with the appropriate compiler flags.\n",
      "2021-09-14 17:03:03.065398: I tensorflow/core/common_runtime/gpu/gpu_device.cc:1258] Device interconnect StreamExecutor with strength 1 edge matrix:\n",
      "2021-09-14 17:03:03.065425: I tensorflow/core/common_runtime/gpu/gpu_device.cc:1264]      \n",
      "2021-09-14 17:03:03.427206: I tensorflow/compiler/mlir/mlir_graph_optimization_pass.cc:176] None of the MLIR Optimization Passes are enabled (registered 2)\n",
      "2021-09-14 17:03:03.445296: I tensorflow/core/platform/profile_utils/cpu_utils.cc:114] CPU Frequency: 2699905000 Hz\n"
     ]
    },
    {
     "name": "stdout",
     "output_type": "stream",
     "text": [
      "100%|█████████| 50/50 [14:33<00:00, 17.46s/trial, best loss: 1.3866616785526276]\n"
     ]
    }
   ],
   "source": [
    "trials = hopt.Trials()\n",
    "best_hp = hopt.fmin(\n",
    "    objective,\n",
    "    space = hp_space,\n",
    "    algo = hopt.tpe.suggest,\n",
    "    max_evals = outer_trials,\n",
    "    trials = trials\n",
    ")\n"
   ]
  },
  {
   "cell_type": "code",
   "execution_count": 28,
   "id": "16f9245e-8f4b-4d4d-8548-16cc121ae4f9",
   "metadata": {},
   "outputs": [
    {
     "data": {
      "text/plain": [
       "{'hidden_layers': 4,\n",
       " 'learning_rate': 0.03888063434715749,\n",
       " 'lr_factor': 0.5748885228251721,\n",
       " 'lr_patience': 3,\n",
       " 'n_units_1': 4,\n",
       " 'n_units_2': 35,\n",
       " 'n_units_3': 16,\n",
       " 'n_units_4': 32,\n",
       " 'reduce_lr_on_plateau': 0}"
      ]
     },
     "execution_count": 28,
     "metadata": {},
     "output_type": "execute_result"
    }
   ],
   "source": [
    "best_hp\n"
   ]
  },
  {
   "cell_type": "code",
   "execution_count": 29,
   "id": "6cdd57d0-ea33-4b78-b114-0a3862886cdf",
   "metadata": {},
   "outputs": [
    {
     "name": "stdout",
     "output_type": "stream",
     "text": [
      "Model: \"model\"\n",
      "_________________________________________________________________\n",
      "Layer (type)                 Output Shape              Param #   \n",
      "=================================================================\n",
      "input (InputLayer)           [(None, 28)]              0         \n",
      "_________________________________________________________________\n",
      "hidden_1 (Dense)             (None, 4)                 116       \n",
      "_________________________________________________________________\n",
      "hidden_2 (Dense)             (None, 35)                175       \n",
      "_________________________________________________________________\n",
      "hidden_3 (Dense)             (None, 16)                576       \n",
      "_________________________________________________________________\n",
      "hidden_4 (Dense)             (None, 32)                544       \n",
      "_________________________________________________________________\n",
      "output (Dense)               (None, 1)                 33        \n",
      "=================================================================\n",
      "Total params: 1,444\n",
      "Trainable params: 1,444\n",
      "Non-trainable params: 0\n",
      "_________________________________________________________________\n"
     ]
    },
    {
     "data": {
      "text/plain": [
       "None"
      ]
     },
     "metadata": {},
     "output_type": "display_data"
    }
   ],
   "source": [
    "inputs = layers.Input(\n",
    "    shape = n_in,\n",
    "    name = 'input'\n",
    ")\n",
    "outputs = inputs\n",
    "for i in range(int(round(best_hp['hidden_layers']))):\n",
    "    outputs = layers.Dense(\n",
    "        units = int(round(best_hp[f\"n_units_{i + 1:d}\"])),\n",
    "        activation = 'relu',\n",
    "        name = f\"hidden_{i + 1:d}\"\n",
    "    )(outputs)\n",
    "outputs = layers.Dense(\n",
    "    units = n_out,\n",
    "    activation = 'linear',\n",
    "    name = 'output'\n",
    ")(outputs)\n",
    "\n",
    "model = keras.Model(\n",
    "    inputs = inputs,\n",
    "    outputs = outputs,\n",
    "    name = 'model'\n",
    ")\n",
    "\n",
    "display(model.summary())\n"
   ]
  },
  {
   "cell_type": "code",
   "execution_count": 30,
   "id": "84d6c7d9-ae0f-4e95-8d20-3dd239b92fe1",
   "metadata": {},
   "outputs": [],
   "source": [
    "model.compile(\n",
    "    optimizer = optimizers.Adadelta(\n",
    "        learning_rate = float(best_hp['learning_rate'])\n",
    "    ),\n",
    "    loss = 'mean_squared_error',\n",
    "    metrics = None\n",
    ")\n"
   ]
  },
  {
   "cell_type": "code",
   "execution_count": 31,
   "id": "e60bad79-60bc-42c0-bafe-5bad74f357f4",
   "metadata": {},
   "outputs": [],
   "source": [
    "cb = [\n",
    "    callbacks.TerminateOnNaN(),\n",
    "    delayed_early_stopping.DelayedEarlyStopping(\n",
    "        delay = early_stopping_delay,\n",
    "        monitor = 'val_loss',\n",
    "        patience = early_stopping,\n",
    "        mode = 'min',\n",
    "        restore_best_weights = True\n",
    "    )\n",
    "]\n",
    "if best_hp['reduce_lr_on_plateau']:\n",
    "    cb.append(\n",
    "        callbacks.ReduceLROnPlateau(\n",
    "            monitor = 'val_loss',\n",
    "            patience = int(round(best_hp['lr_patience'])),\n",
    "            mode = 'min',\n",
    "            factor = float(best_hp['lr_factor'])\n",
    "        )\n",
    "    )\n",
    "\n",
    "history = model.fit(\n",
    "    x = adjusted_in_train,\n",
    "    y = adjusted_out_train,\n",
    "    sample_weight = weights_train,\n",
    "    validation_data = (\n",
    "        adjusted_in_valid,\n",
    "        adjusted_out_valid,\n",
    "        weights_valid\n",
    "    ),\n",
    "    shuffle = True,\n",
    "    batch_size = 256,\n",
    "    epochs = n_epochs,\n",
    "    verbose = 0,\n",
    "    use_multiprocessing = False,\n",
    "    callbacks = cb\n",
    ")\n",
    "\n",
    "del cb\n"
   ]
  },
  {
   "cell_type": "code",
   "execution_count": 32,
   "id": "8113b694-2e07-4bfc-8d64-52e2b0f01183",
   "metadata": {},
   "outputs": [
    {
     "data": {
      "image/png": "[encoded data removed]",
      "text/plain": [
       "<Figure size 1152x648 with 1 Axes>"
      ]
     },
     "metadata": {
      "needs_background": "light"
     },
     "output_type": "display_data"
    }
   ],
   "source": [
    "k = len(history.history['loss'])\n",
    "\n",
    "fig = plt.figure(figsize = (16, 9))\n",
    "\n",
    "ax = fig.add_subplot(111)\n",
    "\n",
    "ax.plot(\n",
    "    list(range(1, k + 1)),\n",
    "    history.history['loss'][:k]\n",
    ")\n",
    "ax.plot(\n",
    "    list(range(1, k + 1)),\n",
    "    history.history['val_loss'][:k]\n",
    ")\n",
    "\n",
    "plt.show()\n",
    "\n",
    "del k\n"
   ]
  },
  {
   "cell_type": "code",
   "execution_count": 33,
   "id": "68b00676-58d0-4a5d-b88c-71ed1ef34721",
   "metadata": {},
   "outputs": [],
   "source": [
    "pred = list()\n",
    "\n",
    "for y in range(year, year + 1):\n",
    "    I = df.index[df.year == y]\n",
    "\n",
    "    for i in I:\n",
    "        X_test = list()\n",
    "        year_test = list()\n",
    "        time_test = list()\n",
    "        pos_test = list()\n",
    "        diverse_test = list()\n",
    "        y_test = None\n",
    "\n",
    "        c = str(np.asarray(df.loc[i, 'country']).item())\n",
    "        a = np.asarray(df.loc[i, 'year']).item()\n",
    "        s = np.asarray(df.loc[i, 'nscore']).item()\n",
    "        #s = (np.asarray(df.loc[i, 'rank']).item() <= mid_rank)\n",
    "\n",
    "        x = np.load(os.path.join(arrays_root, str(y), c, 'penultimate.npy'))\n",
    "        t = np.load(os.path.join(arrays_root, str(y), c, 't.npy'))\n",
    "        p = np.load(os.path.join(arrays_root, str(y), c, 'p.npy'))\n",
    "        d = np.load(os.path.join(arrays_root, str(y), c, 'diverse.npy'))\n",
    "\n",
    "        X_test.append(x)\n",
    "        year_test.append(np.full(x.shape[0], a, dtype = x.dtype))\n",
    "        time_test.append(np.full(x.shape[0], t, dtype = x.dtype))\n",
    "        pos_test.append(np.full(x.shape[0], p, dtype = x.dtype))\n",
    "        diverse_test.append(np.full(x.shape[0], d, dtype = x.dtype))\n",
    "        y_test = x.dtype.type(s)\n",
    "\n",
    "        del x\n",
    "        del t\n",
    "        del p\n",
    "        del d\n",
    "\n",
    "        del c\n",
    "        del a\n",
    "        del s\n",
    "\n",
    "        X_test = np.concatenate(X_test, axis = 0)\n",
    "        year_test = np.squeeze(np.concatenate(year_test, axis = 0))\n",
    "        time_test = np.squeeze(np.concatenate(time_test, axis = 0))\n",
    "        pos_test = np.squeeze(np.concatenate(pos_test, axis = 0))\n",
    "        diverse_test = np.squeeze(np.concatenate(diverse_test, axis = 0))\n",
    "\n",
    "        in_test = np.concatenate(\n",
    "            (\n",
    "                np.dot(X_test, pc)[:, :n_components],\n",
    "                np.expand_dims(year_test, axis = 1),\n",
    "                np.expand_dims(time_test, axis = 1),\n",
    "                np.expand_dims(pos_test, axis = 1),\n",
    "                np.expand_dims(diverse_test, axis = 1)\n",
    "            ),\n",
    "            axis = 1\n",
    "        )\n",
    "\n",
    "        out_test_pred = model.predict(\n",
    "            (in_test - loc_in) / scale_in,\n",
    "            batch_size = 64\n",
    "        )\n",
    "\n",
    "        y_test_pred = scale_out * out_test_pred + loc_out\n",
    "\n",
    "        pred.append((y_test, y_test_pred))\n",
    "\n",
    "        del y_test_pred\n",
    "\n",
    "        del out_test_pred\n",
    "\n",
    "        del in_test\n",
    "\n",
    "        del X_test\n",
    "        del year_test\n",
    "        del time_test\n",
    "        del pos_test\n",
    "        del diverse_test\n",
    "        del y_test\n",
    "\n",
    "    del I\n"
   ]
  },
  {
   "cell_type": "code",
   "execution_count": 34,
   "id": "6bcd3405-a63a-493d-92b0-309adf7b5c59",
   "metadata": {},
   "outputs": [
    {
     "data": {
      "image/png": "[encoded data removed]",
      "text/plain": [
       "<Figure size 1152x648 with 1 Axes>"
      ]
     },
     "metadata": {
      "needs_background": "light"
     },
     "output_type": "display_data"
    }
   ],
   "source": [
    "fig = plt.figure(figsize = (16, 9))\n",
    "\n",
    "ax = fig.add_subplot(111)\n",
    "\n",
    "ax.scatter(\n",
    "    list(p[0] for p in pred),\n",
    "    list(np.quantile(p[1], q = 0.25) for p in pred),\n",
    "    color = 'C0',\n",
    "    alpha = 0.1,\n",
    "    s = 16\n",
    ")\n",
    "ax.scatter(\n",
    "    list(p[0] for p in pred),\n",
    "    list(np.quantile(p[1], q = 0.75) for p in pred),\n",
    "    color = 'C2',\n",
    "    alpha = 0.1,\n",
    "    s = 16\n",
    ")\n",
    "ax.scatter(\n",
    "    list(p[0] for p in pred),\n",
    "    list(np.quantile(p[1], q = 0.5) for p in pred),\n",
    "    color = 'C1',\n",
    "    alpha = 1,\n",
    "    s = 32\n",
    ")\n",
    "\n",
    "plt.show()\n"
   ]
  },
  {
   "cell_type": "code",
   "execution_count": null,
   "id": "4b35c082-8dd3-4f1a-bb7e-0bacc81a8152",
   "metadata": {},
   "outputs": [],
   "source": []
  }
 ],
 "metadata": {
  "kernelspec": {
   "display_name": "Python 3 (ipykernel)",
   "language": "python",
   "name": "python3"
  },
  "language_info": {
   "codemirror_mode": {
    "name": "ipython",
    "version": 3
   },
   "file_extension": ".py",
   "mimetype": "text/x-python",
   "name": "python",
   "nbconvert_exporter": "python",
   "pygments_lexer": "ipython3",
   "version": "3.8.10"
  }
 },
 "nbformat": 4,
 "nbformat_minor": 5
}
