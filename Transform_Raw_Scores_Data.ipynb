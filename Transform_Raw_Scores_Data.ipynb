{
 "cells": [
  {
   "cell_type": "markdown",
   "metadata": {},
   "source": [
    "# Transformation of Raw Scores Data\n"
   ]
  },
  {
   "cell_type": "markdown",
   "metadata": {},
   "source": [
    "**This notebook is a part of Davor Penzar's *[ESC](http://eurovision.tv/) Score Predictor* project.**\n",
    "\n",
    "Author: [Davor Penzar `<davor.penzar@gmail.com>`](mailto:davor.penzar@gmail.com)\\\n",
    "Date: $ 14 $<sup>th</sup> December $ 2020 $\\\n",
    "Version: `1.0`\n"
   ]
  },
  {
   "cell_type": "markdown",
   "metadata": {},
   "source": [
    "This [*Jupyter notebook*](http://jupyter.org/) transforms raw scores data into the format that is used throughout the rest of the project.\n"
   ]
  },
  {
   "cell_type": "markdown",
   "metadata": {},
   "source": [
    "## Environment Preparation\n"
   ]
  },
  {
   "cell_type": "markdown",
   "metadata": {},
   "source": [
    "Import library&hellip;\n"
   ]
  },
  {
   "cell_type": "code",
   "execution_count": 1,
   "metadata": {},
   "outputs": [],
   "source": [
    "# Import IPython.\n",
    "from IPython import *\n",
    "from IPython.display import *\n"
   ]
  },
  {
   "cell_type": "code",
   "execution_count": 2,
   "metadata": {},
   "outputs": [],
   "source": [
    "# Import standard library.\n",
    "import copy\n",
    "import enum\n",
    "import functools\n",
    "import math\n",
    "import numbers\n",
    "import random\n",
    "import six\n",
    "import sys\n",
    "import time\n"
   ]
  },
  {
   "cell_type": "code",
   "execution_count": 3,
   "metadata": {},
   "outputs": [],
   "source": [
    "# Import SciPy packages.\n",
    "import matplotlib as mpl\n",
    "import matplotlib.image as mpimg\n",
    "import matplotlib.pyplot as plt\n",
    "import matplotlib.ticker as ticker\n",
    "import numpy as np\n",
    "import pandas as pd\n",
    "#import sympy as sym\n",
    "import scipy as sp\n",
    "import scipy.optimize as spo\n",
    "from mpl_toolkits.mplot3d import Axes3D\n"
   ]
  },
  {
   "cell_type": "markdown",
   "metadata": {},
   "source": [
    "Initial setup&hellip;\n"
   ]
  },
  {
   "cell_type": "code",
   "execution_count": 4,
   "metadata": {},
   "outputs": [],
   "source": [
    "%matplotlib inline\n"
   ]
  },
  {
   "cell_type": "code",
   "execution_count": 5,
   "metadata": {},
   "outputs": [],
   "source": [
    "#sym.init_printing()\n"
   ]
  },
  {
   "cell_type": "code",
   "execution_count": 6,
   "metadata": {},
   "outputs": [],
   "source": [
    "plt.style.use('default')\n"
   ]
  },
  {
   "cell_type": "markdown",
   "metadata": {},
   "source": [
    "**[*Python*](http://python.org/) version and versions of packages**\n",
    "\n",
    "Output on the original machine:\n",
    "\n",
    "```\n",
    "Python version:\n",
    "\t3.8.3 (default, Jul  2 2020, 17:30:36) [MSC v.1916 64 bit (AMD64)]\n",
    "SciPy version: 1.5.0\n",
    "NumPy version: 1.18.5\n",
    "Pandas version: 1.0.5\n",
    "Matplotlib version: 3.2.2\n",
    "\n",
    "```\n"
   ]
  },
  {
   "cell_type": "code",
   "execution_count": 7,
   "metadata": {},
   "outputs": [
    {
     "name": "stdout",
     "output_type": "stream",
     "text": [
      "Python version:\n",
      "\t3.8.3 (default, Jul  2 2020, 17:30:36) [MSC v.1916 64 bit (AMD64)]\n",
      "SciPy version: 1.5.0\n",
      "NumPy version: 1.18.5\n",
      "Pandas version: 1.0.5\n",
      "Matplotlib version: 3.2.2\n"
     ]
    }
   ],
   "source": [
    "print(\n",
    "    \"Python version:\\n\\t{v:s}\".format(\n",
    "        v = sys.version.strip().replace(\"\\n\", \"\\n\\t\")\n",
    "    )\n",
    ")\n",
    "print(\"SciPy version: {v:s}\".format(v = sp.__version__))\n",
    "print(\"NumPy version: {v:s}\".format(v = np.__version__))\n",
    "print(\"Pandas version: {v:s}\".format(v = pd.__version__))\n",
    "print(\"Matplotlib version: {v:s}\".format(v = mpl.__version__))\n"
   ]
  },
  {
   "cell_type": "markdown",
   "metadata": {},
   "source": [
    "## Importing Raw Data\n"
   ]
  },
  {
   "cell_type": "markdown",
   "metadata": {},
   "source": [
    "The data is imported as it was downloaded from its source, without any prior transformation or manipulation.\n"
   ]
  },
  {
   "cell_type": "markdown",
   "metadata": {},
   "source": [
    "We shall import the raw data with minimal manipulation during the importing (see parameters `names` and `converters` in [`pd.read_excel` function](http://pandas.pydata.org/pandas-docs/stable/reference/api/pandas.read_excel.html) call below).\n"
   ]
  },
  {
   "cell_type": "code",
   "execution_count": 8,
   "metadata": {},
   "outputs": [],
   "source": [
    "# Read data from the Excel spreadsheet.\n",
    "df = pd.read_excel(\n",
    "    'data/eurovision_song_contest_1975_2019v3.xlsx',\n",
    "    sheet_name = 'Data',\n",
    "    header = 0,\n",
    "    names = [\n",
    "        'year',\n",
    "        'contest_level',\n",
    "        'edition',\n",
    "        'by',\n",
    "        'from',\n",
    "        'to',\n",
    "        'points',\n",
    "        'duplicate'\n",
    "    ],\n",
    "    index_col = None,\n",
    "    converters = {\n",
    "        'contest_level': (\n",
    "            lambda l:\n",
    "                'semifinal' if l.upper() in {'SF', 'SF1', 'SF2'}\n",
    "                else 'final' if l.upper() == 'F'\n",
    "                else None\n",
    "        ),\n",
    "        'by': (\n",
    "            lambda s:\n",
    "                'jury' if s.upper() == 'J'\n",
    "                else 'televoting' if s.upper() == 'T'\n",
    "                else None\n",
    "        ),\n",
    "        'duplicate': (\n",
    "            lambda d:\n",
    "                True if d.upper() == 'X'\n",
    "                else False if not d\n",
    "                else None\n",
    "        )\n",
    "    }\n",
    ")\n"
   ]
  },
  {
   "cell_type": "markdown",
   "metadata": {},
   "source": [
    "The dataframe now holds information about scoring points in all contests (at all levels&mdash;both semifinal and final), as well as who gave them and who received them.\n"
   ]
  },
  {
   "cell_type": "code",
   "execution_count": 9,
   "metadata": {},
   "outputs": [
    {
     "name": "stdout",
     "output_type": "stream",
     "text": [
      "<class 'pandas.core.frame.DataFrame'>\n",
      "RangeIndex: 49832 entries, 0 to 49831\n",
      "Data columns (total 8 columns):\n",
      " #   Column         Non-Null Count  Dtype \n",
      "---  ------         --------------  ----- \n",
      " 0   year           49832 non-null  int64 \n",
      " 1   contest_level  49832 non-null  object\n",
      " 2   edition        49832 non-null  object\n",
      " 3   by             49832 non-null  object\n",
      " 4   from           49832 non-null  object\n",
      " 5   to             49832 non-null  object\n",
      " 6   points         49832 non-null  int64 \n",
      " 7   duplicate      49832 non-null  bool  \n",
      "dtypes: bool(1), int64(2), object(5)\n",
      "memory usage: 2.7+ MB\n"
     ]
    }
   ],
   "source": [
    "df.info()\n"
   ]
  },
  {
   "cell_type": "code",
   "execution_count": 10,
   "metadata": {},
   "outputs": [
    {
     "data": {
      "text/html": [
       "<div>\n",
       "<style scoped>\n",
       "    .dataframe tbody tr th:only-of-type {\n",
       "        vertical-align: middle;\n",
       "    }\n",
       "\n",
       "    .dataframe tbody tr th {\n",
       "        vertical-align: top;\n",
       "    }\n",
       "\n",
       "    .dataframe thead th {\n",
       "        text-align: right;\n",
       "    }\n",
       "</style>\n",
       "<table border=\"1\" class=\"dataframe\">\n",
       "  <thead>\n",
       "    <tr style=\"text-align: right;\">\n",
       "      <th></th>\n",
       "      <th>year</th>\n",
       "      <th>contest_level</th>\n",
       "      <th>edition</th>\n",
       "      <th>by</th>\n",
       "      <th>from</th>\n",
       "      <th>to</th>\n",
       "      <th>points</th>\n",
       "      <th>duplicate</th>\n",
       "    </tr>\n",
       "  </thead>\n",
       "  <tbody>\n",
       "    <tr>\n",
       "      <th>3503</th>\n",
       "      <td>1984</td>\n",
       "      <td>final</td>\n",
       "      <td>1984f</td>\n",
       "      <td>jury</td>\n",
       "      <td>Sweden</td>\n",
       "      <td>Belgium</td>\n",
       "      <td>0</td>\n",
       "      <td>False</td>\n",
       "    </tr>\n",
       "    <tr>\n",
       "      <th>4988</th>\n",
       "      <td>1988</td>\n",
       "      <td>final</td>\n",
       "      <td>1988f</td>\n",
       "      <td>jury</td>\n",
       "      <td>Greece</td>\n",
       "      <td>Belgium</td>\n",
       "      <td>0</td>\n",
       "      <td>False</td>\n",
       "    </tr>\n",
       "    <tr>\n",
       "      <th>8071</th>\n",
       "      <td>1994</td>\n",
       "      <td>final</td>\n",
       "      <td>1994f</td>\n",
       "      <td>jury</td>\n",
       "      <td>France</td>\n",
       "      <td>Malta</td>\n",
       "      <td>0</td>\n",
       "      <td>False</td>\n",
       "    </tr>\n",
       "    <tr>\n",
       "      <th>8473</th>\n",
       "      <td>1994</td>\n",
       "      <td>final</td>\n",
       "      <td>1994f</td>\n",
       "      <td>jury</td>\n",
       "      <td>Switzerland</td>\n",
       "      <td>Poland</td>\n",
       "      <td>10</td>\n",
       "      <td>False</td>\n",
       "    </tr>\n",
       "    <tr>\n",
       "      <th>9305</th>\n",
       "      <td>1996</td>\n",
       "      <td>final</td>\n",
       "      <td>1996f</td>\n",
       "      <td>jury</td>\n",
       "      <td>Ireland</td>\n",
       "      <td>Poland</td>\n",
       "      <td>0</td>\n",
       "      <td>False</td>\n",
       "    </tr>\n",
       "    <tr>\n",
       "      <th>10921</th>\n",
       "      <td>1999</td>\n",
       "      <td>final</td>\n",
       "      <td>1999f</td>\n",
       "      <td>jury</td>\n",
       "      <td>Croatia</td>\n",
       "      <td>Israel</td>\n",
       "      <td>8</td>\n",
       "      <td>False</td>\n",
       "    </tr>\n",
       "    <tr>\n",
       "      <th>12992</th>\n",
       "      <td>2002</td>\n",
       "      <td>final</td>\n",
       "      <td>2002f</td>\n",
       "      <td>jury</td>\n",
       "      <td>Switzerland</td>\n",
       "      <td>Latvia</td>\n",
       "      <td>8</td>\n",
       "      <td>False</td>\n",
       "    </tr>\n",
       "    <tr>\n",
       "      <th>27536</th>\n",
       "      <td>2011</td>\n",
       "      <td>final</td>\n",
       "      <td>2011f</td>\n",
       "      <td>jury</td>\n",
       "      <td>Spain</td>\n",
       "      <td>Lithuania</td>\n",
       "      <td>1</td>\n",
       "      <td>False</td>\n",
       "    </tr>\n",
       "    <tr>\n",
       "      <th>30892</th>\n",
       "      <td>2013</td>\n",
       "      <td>final</td>\n",
       "      <td>2013f</td>\n",
       "      <td>jury</td>\n",
       "      <td>Israel</td>\n",
       "      <td>Greece</td>\n",
       "      <td>2</td>\n",
       "      <td>False</td>\n",
       "    </tr>\n",
       "    <tr>\n",
       "      <th>32326</th>\n",
       "      <td>2014</td>\n",
       "      <td>final</td>\n",
       "      <td>2014f</td>\n",
       "      <td>jury</td>\n",
       "      <td>Georgia</td>\n",
       "      <td>Spain</td>\n",
       "      <td>0</td>\n",
       "      <td>False</td>\n",
       "    </tr>\n",
       "    <tr>\n",
       "      <th>35527</th>\n",
       "      <td>2016</td>\n",
       "      <td>final</td>\n",
       "      <td>2016f</td>\n",
       "      <td>jury</td>\n",
       "      <td>Croatia</td>\n",
       "      <td>Italy</td>\n",
       "      <td>3</td>\n",
       "      <td>False</td>\n",
       "    </tr>\n",
       "    <tr>\n",
       "      <th>41820</th>\n",
       "      <td>2017</td>\n",
       "      <td>semifinal</td>\n",
       "      <td>2017sf2</td>\n",
       "      <td>jury</td>\n",
       "      <td>Belarus</td>\n",
       "      <td>Denmark</td>\n",
       "      <td>2</td>\n",
       "      <td>False</td>\n",
       "    </tr>\n",
       "  </tbody>\n",
       "</table>\n",
       "</div>"
      ],
      "text/plain": [
       "       year contest_level  edition    by         from         to  points  \\\n",
       "3503   1984         final    1984f  jury       Sweden    Belgium       0   \n",
       "4988   1988         final    1988f  jury       Greece    Belgium       0   \n",
       "8071   1994         final    1994f  jury       France      Malta       0   \n",
       "8473   1994         final    1994f  jury  Switzerland     Poland      10   \n",
       "9305   1996         final    1996f  jury      Ireland     Poland       0   \n",
       "10921  1999         final    1999f  jury      Croatia     Israel       8   \n",
       "12992  2002         final    2002f  jury  Switzerland     Latvia       8   \n",
       "27536  2011         final    2011f  jury        Spain  Lithuania       1   \n",
       "30892  2013         final    2013f  jury       Israel     Greece       2   \n",
       "32326  2014         final    2014f  jury      Georgia      Spain       0   \n",
       "35527  2016         final    2016f  jury      Croatia      Italy       3   \n",
       "41820  2017     semifinal  2017sf2  jury      Belarus    Denmark       2   \n",
       "\n",
       "       duplicate  \n",
       "3503       False  \n",
       "4988       False  \n",
       "8071       False  \n",
       "8473       False  \n",
       "9305       False  \n",
       "10921      False  \n",
       "12992      False  \n",
       "27536      False  \n",
       "30892      False  \n",
       "32326      False  \n",
       "35527      False  \n",
       "41820      False  "
      ]
     },
     "execution_count": 10,
     "metadata": {},
     "output_type": "execute_result"
    }
   ],
   "source": [
    "df.sample(12, replace = False, random_state = 2020).sort_index()\n"
   ]
  },
  {
   "cell_type": "markdown",
   "metadata": {},
   "source": [
    "However, such detailed information is redundant. All we really need is how much each country scored in total. Furthermore, we are not interested in semifinals because score distribution would then be inconsistent and the consistency would be hard, if not impossible, to recreate.\n"
   ]
  },
  {
   "cell_type": "markdown",
   "metadata": {},
   "source": [
    "## Reduction of Unnecessary Data\n"
   ]
  },
  {
   "cell_type": "markdown",
   "metadata": {},
   "source": [
    "We shall now simplify the dataframe in a more compact and useful format, as mentioned before.\n"
   ]
  },
  {
   "cell_type": "code",
   "execution_count": 11,
   "metadata": {},
   "outputs": [],
   "source": [
    "# Drop unnecessary rows and columns.\n",
    "df.dropna(axis = 0, how = 'any', inplace = True)\n",
    "df.drop(\n",
    "    df.index[df.duplicate | (df.contest_level != 'final')],\n",
    "    axis = 0,\n",
    "    inplace = True\n",
    ")\n",
    "df.drop(\n",
    "    ['contest_level', 'edition', 'by', 'from', 'duplicate'],\n",
    "    axis = 1,\n",
    "    inplace = True\n",
    ")\n",
    "\n",
    "# Aggregate by the accumulated score.\n",
    "df = df.groupby(\n",
    "    ['to', 'year'],\n",
    "    axis = 0,\n",
    "    sort = False\n",
    ").sum().reset_index(\n",
    "    drop = False,\n",
    "    inplace = False,\n",
    "    col_fill = None\n",
    ")\n",
    "df.columns = ['country', 'year', 'score']\n",
    "df.sort_values(\n",
    "    ['year', 'country', 'score'],\n",
    "    axis = 0,\n",
    "    ascending = [True, True, False],\n",
    "    inplace = True\n",
    ")\n",
    "df.reset_index(drop = True, inplace = True)\n",
    "\n",
    "# Create a new dataframe to ensure its memory optimisation.\n",
    "df = df.copy(deep = True)\n"
   ]
  },
  {
   "cell_type": "markdown",
   "metadata": {},
   "source": [
    "Let us observe the current state of the dataframe.\n"
   ]
  },
  {
   "cell_type": "code",
   "execution_count": 12,
   "metadata": {},
   "outputs": [
    {
     "name": "stdout",
     "output_type": "stream",
     "text": [
      "<class 'pandas.core.frame.DataFrame'>\n",
      "RangeIndex: 1032 entries, 0 to 1031\n",
      "Data columns (total 3 columns):\n",
      " #   Column   Non-Null Count  Dtype \n",
      "---  ------   --------------  ----- \n",
      " 0   country  1032 non-null   object\n",
      " 1   year     1032 non-null   int64 \n",
      " 2   score    1032 non-null   int64 \n",
      "dtypes: int64(2), object(1)\n",
      "memory usage: 24.3+ KB\n"
     ]
    }
   ],
   "source": [
    "df.info()\n"
   ]
  },
  {
   "cell_type": "code",
   "execution_count": 13,
   "metadata": {},
   "outputs": [
    {
     "data": {
      "text/html": [
       "<div>\n",
       "<style scoped>\n",
       "    .dataframe tbody tr th:only-of-type {\n",
       "        vertical-align: middle;\n",
       "    }\n",
       "\n",
       "    .dataframe tbody tr th {\n",
       "        vertical-align: top;\n",
       "    }\n",
       "\n",
       "    .dataframe thead th {\n",
       "        text-align: right;\n",
       "    }\n",
       "</style>\n",
       "<table border=\"1\" class=\"dataframe\">\n",
       "  <thead>\n",
       "    <tr style=\"text-align: right;\">\n",
       "      <th></th>\n",
       "      <th>country</th>\n",
       "      <th>year</th>\n",
       "      <th>score</th>\n",
       "    </tr>\n",
       "  </thead>\n",
       "  <tbody>\n",
       "    <tr>\n",
       "      <th>39</th>\n",
       "      <td>Finland</td>\n",
       "      <td>1977</td>\n",
       "      <td>50</td>\n",
       "    </tr>\n",
       "    <tr>\n",
       "      <th>297</th>\n",
       "      <td>Denmark</td>\n",
       "      <td>1990</td>\n",
       "      <td>64</td>\n",
       "    </tr>\n",
       "    <tr>\n",
       "      <th>318</th>\n",
       "      <td>Cyprus</td>\n",
       "      <td>1991</td>\n",
       "      <td>60</td>\n",
       "    </tr>\n",
       "    <tr>\n",
       "      <th>322</th>\n",
       "      <td>Germany</td>\n",
       "      <td>1991</td>\n",
       "      <td>10</td>\n",
       "    </tr>\n",
       "    <tr>\n",
       "      <th>352</th>\n",
       "      <td>Norway</td>\n",
       "      <td>1992</td>\n",
       "      <td>23</td>\n",
       "    </tr>\n",
       "    <tr>\n",
       "      <th>369</th>\n",
       "      <td>Germany</td>\n",
       "      <td>1993</td>\n",
       "      <td>18</td>\n",
       "    </tr>\n",
       "    <tr>\n",
       "      <th>386</th>\n",
       "      <td>Austria</td>\n",
       "      <td>1994</td>\n",
       "      <td>19</td>\n",
       "    </tr>\n",
       "    <tr>\n",
       "      <th>612</th>\n",
       "      <td>Israel</td>\n",
       "      <td>2003</td>\n",
       "      <td>17</td>\n",
       "    </tr>\n",
       "    <tr>\n",
       "      <th>869</th>\n",
       "      <td>Russia</td>\n",
       "      <td>2013</td>\n",
       "      <td>174</td>\n",
       "    </tr>\n",
       "    <tr>\n",
       "      <th>872</th>\n",
       "      <td>The Netherlands</td>\n",
       "      <td>2013</td>\n",
       "      <td>114</td>\n",
       "    </tr>\n",
       "    <tr>\n",
       "      <th>881</th>\n",
       "      <td>France</td>\n",
       "      <td>2014</td>\n",
       "      <td>2</td>\n",
       "    </tr>\n",
       "    <tr>\n",
       "      <th>883</th>\n",
       "      <td>Greece</td>\n",
       "      <td>2014</td>\n",
       "      <td>35</td>\n",
       "    </tr>\n",
       "  </tbody>\n",
       "</table>\n",
       "</div>"
      ],
      "text/plain": [
       "             country  year  score\n",
       "39           Finland  1977     50\n",
       "297          Denmark  1990     64\n",
       "318           Cyprus  1991     60\n",
       "322          Germany  1991     10\n",
       "352           Norway  1992     23\n",
       "369          Germany  1993     18\n",
       "386          Austria  1994     19\n",
       "612           Israel  2003     17\n",
       "869           Russia  2013    174\n",
       "872  The Netherlands  2013    114\n",
       "881           France  2014      2\n",
       "883           Greece  2014     35"
      ]
     },
     "execution_count": 13,
     "metadata": {},
     "output_type": "execute_result"
    }
   ],
   "source": [
    "df.sample(12, replace = False, random_state = 2020).sort_index()\n"
   ]
  },
  {
   "cell_type": "markdown",
   "metadata": {},
   "source": [
    "The number of entries (rows) dropped drastically, from $ 49832 $ to $ 1032 $ (by $ 97.93 \\, \\% $). The dataframe is now more informant<sup>[1](#footnote-1)</sup>, too: for instance, if we want to know how much France scored in $ 1995 $ finals, all we need to do is find `df.loc[(df.country == 'France') & (df.year == 1995), 'score']` (in the earlier format, a group-by and an aggregate function were needed to obtain the information).\n",
    "\n",
    "---\n",
    "\n",
    "<a class=\"anchor\" id=\"footnote-1\"></a><sup>1</sup> Of course, one can argue that the original dataframe was more *informant* since it held more details and therefore more information. However, in the context of this project, the relevant data is actually total score of each country in the finals, which will be normalised later. Since this dataframe now explicitly holds such information, it is considered more informant than the original one.\n"
   ]
  },
  {
   "cell_type": "code",
   "execution_count": 14,
   "metadata": {},
   "outputs": [
    {
     "data": {
      "text/plain": [
       "94"
      ]
     },
     "execution_count": 14,
     "metadata": {},
     "output_type": "execute_result"
    }
   ],
   "source": [
    "int(df.loc[(df.country == 'France') & (df.year == 1995), 'score'])\n"
   ]
  },
  {
   "cell_type": "markdown",
   "metadata": {},
   "source": [
    "## Names of Countries\n"
   ]
  },
  {
   "cell_type": "markdown",
   "metadata": {},
   "source": [
    "Let us observe the names of all countries appearing in the dataframe-\n"
   ]
  },
  {
   "cell_type": "code",
   "execution_count": 15,
   "metadata": {},
   "outputs": [
    {
     "data": {
      "text/plain": [
       "['Albania',\n",
       " 'Armenia',\n",
       " 'Australia',\n",
       " 'Austria',\n",
       " 'Azerbaijan',\n",
       " 'Belarus',\n",
       " 'Belgium',\n",
       " 'Bosnia & Herzegovina',\n",
       " 'Bulgaria',\n",
       " 'Croatia',\n",
       " 'Cyprus',\n",
       " 'Czech Republic',\n",
       " 'Denmark',\n",
       " 'Estonia',\n",
       " 'F.Y.R. Macedonia',\n",
       " 'Finland',\n",
       " 'France',\n",
       " 'Georgia',\n",
       " 'Germany',\n",
       " 'Greece',\n",
       " 'Hungary',\n",
       " 'Iceland',\n",
       " 'Ireland',\n",
       " 'Israel',\n",
       " 'Italy',\n",
       " 'Latvia',\n",
       " 'Lithuania',\n",
       " 'Luxembourg',\n",
       " 'Malta',\n",
       " 'Moldova',\n",
       " 'Monaco',\n",
       " 'Montenegro',\n",
       " 'Morocco',\n",
       " 'North Macedonia',\n",
       " 'Norway',\n",
       " 'Poland',\n",
       " 'Portugal',\n",
       " 'Romania',\n",
       " 'Russia',\n",
       " 'San Marino',\n",
       " 'Serbia',\n",
       " 'Serbia & Montenegro',\n",
       " 'Slovakia',\n",
       " 'Slovenia',\n",
       " 'Spain',\n",
       " 'Sweden',\n",
       " 'Switzerland',\n",
       " 'The Netherlands',\n",
       " 'Turkey',\n",
       " 'Ukraine',\n",
       " 'United Kingdom',\n",
       " 'Yugoslavia']"
      ]
     },
     "execution_count": 15,
     "metadata": {},
     "output_type": "execute_result"
    }
   ],
   "source": [
    "np.sort(np.asarray(df.country.unique()).ravel()).tolist()\n"
   ]
  },
  {
   "cell_type": "markdown",
   "metadata": {},
   "source": [
    "As we can see, some of the countries no longer exist (Yugoslavia, Serbia and Montenegro) or they are named differently now (FYR Macedonia).\n",
    "\n",
    "We shall now change entries of such countries by using the current countries' names. In case of now broken-up federations and unions (Yugoslavia, Serbia and Montenegro) the names of current countries of origin of contestants shall be used. This information was found by browsing [*Wikipedia*](http://wikipedia.org/).\n"
   ]
  },
  {
   "cell_type": "code",
   "execution_count": 16,
   "metadata": {},
   "outputs": [],
   "source": [
    "# **Note.** The following collections in no way represent the author's\n",
    "# political or any other views nor do they imply existence or non-existence of\n",
    "# any state / validity or non-validity of its statehood.  The information is\n",
    "# gathered from actual history which, without a doubt, happend while the\n",
    "# variables are only named associatively to make the source code more readable.\n",
    "\n",
    "Yugoslavia = frozenset(\n",
    "    {\n",
    "        'Yugoslavia',\n",
    "        'Serbia & Montenegro',\n",
    "        'Bosnia & Herzegovina',\n",
    "        'Croatia',\n",
    "        'Kosovo',\n",
    "        'Montenegro',\n",
    "        'F.Y.R. Macedonia',\n",
    "        'North Macedonia',\n",
    "        'Serbia',\n",
    "        'Slovenia'\n",
    "    }\n",
    ")\n",
    "SerbiaAndMontenegro = frozenset(\n",
    "    {\n",
    "        'Serbia & Montenegro',\n",
    "        'Kosovo',\n",
    "        'Montenegro',\n",
    "        'Serbia'\n",
    "    }\n",
    ")\n",
    "BosniaAndHerzegovina = frozenset(\n",
    "    {\n",
    "        'Bosnia & Herzegovina'\n",
    "    }\n",
    ")\n",
    "Croatia = frozenset(\n",
    "    {\n",
    "        'Croatia'\n",
    "    }\n",
    ")\n",
    "Kosovo = frozenset(\n",
    "    {\n",
    "        'Kosovo'\n",
    "    }\n",
    ")\n",
    "Montenegro = frozenset(\n",
    "    {\n",
    "        'Montenegro'\n",
    "    }\n",
    ")\n",
    "Macedonia = frozenset(\n",
    "    {\n",
    "        'F.Y.R. Macedonia',\n",
    "        'North Macedonia'\n",
    "    }\n",
    ")\n",
    "Serbia = frozenset(\n",
    "    {\n",
    "        'Serbia',\n",
    "        'Kosovo'\n",
    "    }\n",
    ")\n",
    "Slovenia = frozenset(\n",
    "    {\n",
    "        'Slovenia'\n",
    "    }\n",
    ")\n"
   ]
  },
  {
   "cell_type": "code",
   "execution_count": 17,
   "metadata": {},
   "outputs": [
    {
     "data": {
      "text/html": [
       "<div>\n",
       "<style scoped>\n",
       "    .dataframe tbody tr th:only-of-type {\n",
       "        vertical-align: middle;\n",
       "    }\n",
       "\n",
       "    .dataframe tbody tr th {\n",
       "        vertical-align: top;\n",
       "    }\n",
       "\n",
       "    .dataframe thead th {\n",
       "        text-align: right;\n",
       "    }\n",
       "</style>\n",
       "<table border=\"1\" class=\"dataframe\">\n",
       "  <thead>\n",
       "    <tr style=\"text-align: right;\">\n",
       "      <th></th>\n",
       "      <th>country</th>\n",
       "      <th>year</th>\n",
       "      <th>score</th>\n",
       "    </tr>\n",
       "  </thead>\n",
       "  <tbody>\n",
       "    <tr>\n",
       "      <th>250</th>\n",
       "      <td>Yugoslavia</td>\n",
       "      <td>1987</td>\n",
       "      <td>92</td>\n",
       "    </tr>\n",
       "    <tr>\n",
       "      <th>360</th>\n",
       "      <td>Yugoslavia</td>\n",
       "      <td>1992</td>\n",
       "      <td>44</td>\n",
       "    </tr>\n",
       "    <tr>\n",
       "      <th>388</th>\n",
       "      <td>Croatia</td>\n",
       "      <td>1994</td>\n",
       "      <td>27</td>\n",
       "    </tr>\n",
       "    <tr>\n",
       "      <th>450</th>\n",
       "      <td>Slovenia</td>\n",
       "      <td>1996</td>\n",
       "      <td>16</td>\n",
       "    </tr>\n",
       "    <tr>\n",
       "      <th>459</th>\n",
       "      <td>Croatia</td>\n",
       "      <td>1997</td>\n",
       "      <td>24</td>\n",
       "    </tr>\n",
       "    <tr>\n",
       "      <th>510</th>\n",
       "      <td>Croatia</td>\n",
       "      <td>1999</td>\n",
       "      <td>118</td>\n",
       "    </tr>\n",
       "    <tr>\n",
       "      <th>571</th>\n",
       "      <td>Slovenia</td>\n",
       "      <td>2001</td>\n",
       "      <td>70</td>\n",
       "    </tr>\n",
       "    <tr>\n",
       "      <th>630</th>\n",
       "      <td>Bosnia &amp; Herzegovina</td>\n",
       "      <td>2004</td>\n",
       "      <td>91</td>\n",
       "    </tr>\n",
       "    <tr>\n",
       "      <th>652</th>\n",
       "      <td>Bosnia &amp; Herzegovina</td>\n",
       "      <td>2005</td>\n",
       "      <td>79</td>\n",
       "    </tr>\n",
       "    <tr>\n",
       "      <th>888</th>\n",
       "      <td>Montenegro</td>\n",
       "      <td>2014</td>\n",
       "      <td>37</td>\n",
       "    </tr>\n",
       "    <tr>\n",
       "      <th>923</th>\n",
       "      <td>Serbia</td>\n",
       "      <td>2015</td>\n",
       "      <td>53</td>\n",
       "    </tr>\n",
       "    <tr>\n",
       "      <th>999</th>\n",
       "      <td>Serbia</td>\n",
       "      <td>2018</td>\n",
       "      <td>113</td>\n",
       "    </tr>\n",
       "  </tbody>\n",
       "</table>\n",
       "</div>"
      ],
      "text/plain": [
       "                  country  year  score\n",
       "250            Yugoslavia  1987     92\n",
       "360            Yugoslavia  1992     44\n",
       "388               Croatia  1994     27\n",
       "450              Slovenia  1996     16\n",
       "459               Croatia  1997     24\n",
       "510               Croatia  1999    118\n",
       "571              Slovenia  2001     70\n",
       "630  Bosnia & Herzegovina  2004     91\n",
       "652  Bosnia & Herzegovina  2005     79\n",
       "888            Montenegro  2014     37\n",
       "923                Serbia  2015     53\n",
       "999                Serbia  2018    113"
      ]
     },
     "execution_count": 17,
     "metadata": {},
     "output_type": "execute_result"
    }
   ],
   "source": [
    "df.loc[df.country.isin(Yugoslavia)].sample(12, replace = False, random_state = 2020).sort_index()\n"
   ]
  },
  {
   "cell_type": "code",
   "execution_count": null,
   "metadata": {},
   "outputs": [],
   "source": []
  }
 ],
 "metadata": {
  "kernelspec": {
   "display_name": "Python 3",
   "language": "python",
   "name": "python3"
  },
  "language_info": {
   "codemirror_mode": {
    "name": "ipython",
    "version": 3
   },
   "file_extension": ".py",
   "mimetype": "text/x-python",
   "name": "python",
   "nbconvert_exporter": "python",
   "pygments_lexer": "ipython3",
   "version": "3.8.3"
  }
 },
 "nbformat": 4,
 "nbformat_minor": 4
}
