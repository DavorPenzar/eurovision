{
 "cells": [
  {
   "cell_type": "markdown",
   "metadata": {},
   "source": [
    "# Transformation of Raw Scores Data\n"
   ]
  },
  {
   "cell_type": "markdown",
   "metadata": {},
   "source": [
    "**This notebook is a part of Davor Penzar's *[ESC](http://eurovision.tv/) Score Predictor* project.**\n",
    "\n",
    "Author: [Davor Penzar `<davor.penzar@gmail.com>`](mailto:davor.penzar@gmail.com)\\\n",
    "Date: $ 14 $<sup>th</sup> December $ 2020 $\\\n",
    "Version: `1.0`\n"
   ]
  },
  {
   "cell_type": "markdown",
   "metadata": {},
   "source": [
    "This [*Jupyter notebook*](http://jupyter.org/) transforms raw scores data into the format that is used throughout the rest of the project.\n"
   ]
  },
  {
   "cell_type": "markdown",
   "metadata": {},
   "source": [
    "## Environment Preparation\n"
   ]
  },
  {
   "cell_type": "markdown",
   "metadata": {},
   "source": [
    "Import library&hellip;\n"
   ]
  },
  {
   "cell_type": "code",
   "execution_count": 1,
   "metadata": {},
   "outputs": [],
   "source": [
    "# Import IPython.\n",
    "from IPython import *\n",
    "from IPython.display import *\n"
   ]
  },
  {
   "cell_type": "code",
   "execution_count": 2,
   "metadata": {},
   "outputs": [],
   "source": [
    "# Import standard library.\n",
    "import copy\n",
    "import enum\n",
    "import functools\n",
    "import math\n",
    "import numbers\n",
    "import random\n",
    "import six\n",
    "import sys\n",
    "import time\n"
   ]
  },
  {
   "cell_type": "code",
   "execution_count": 3,
   "metadata": {},
   "outputs": [],
   "source": [
    "# Import SciPy packages.\n",
    "import matplotlib as mpl\n",
    "import matplotlib.image as mpimg\n",
    "import matplotlib.pyplot as plt\n",
    "import matplotlib.ticker as ticker\n",
    "import numpy as np\n",
    "import pandas as pd\n",
    "#import sympy as sym\n",
    "import scipy as sp\n",
    "import scipy.optimize as spo\n",
    "from mpl_toolkits.mplot3d import Axes3D\n"
   ]
  },
  {
   "cell_type": "markdown",
   "metadata": {},
   "source": [
    "Initial setup&hellip;\n"
   ]
  },
  {
   "cell_type": "code",
   "execution_count": 4,
   "metadata": {},
   "outputs": [],
   "source": [
    "%matplotlib inline\n"
   ]
  },
  {
   "cell_type": "code",
   "execution_count": 5,
   "metadata": {},
   "outputs": [],
   "source": [
    "#sym.init_printing()\n"
   ]
  },
  {
   "cell_type": "code",
   "execution_count": 6,
   "metadata": {},
   "outputs": [],
   "source": [
    "plt.style.use('default')\n"
   ]
  },
  {
   "cell_type": "markdown",
   "metadata": {},
   "source": [
    "**[*Python*](http://python.org/) version and versions of packages**\n",
    "\n",
    "Output on the original machine:\n",
    "\n",
    "```\n",
    "Python version:\n",
    "\t3.8.3 (default, Jul  2 2020, 17:30:36) [MSC v.1916 64 bit (AMD64)]\n",
    "SciPy version: 1.5.0\n",
    "NumPy version: 1.18.5\n",
    "Pandas version: 1.0.5\n",
    "Matplotlib version: 3.2.2\n",
    "\n",
    "```\n"
   ]
  },
  {
   "cell_type": "code",
   "execution_count": 7,
   "metadata": {},
   "outputs": [
    {
     "name": "stdout",
     "output_type": "stream",
     "text": [
      "Python version:\n",
      "\t3.8.3 (default, Jul  2 2020, 17:30:36) [MSC v.1916 64 bit (AMD64)]\n",
      "SciPy version: 1.5.0\n",
      "NumPy version: 1.18.5\n",
      "Pandas version: 1.0.5\n",
      "Matplotlib version: 3.2.2\n"
     ]
    }
   ],
   "source": [
    "print(\n",
    "    \"Python version:\\n\\t{v:s}\".format(\n",
    "        v = sys.version.strip().replace(\"\\n\", \"\\n\\t\")\n",
    "    )\n",
    ")\n",
    "print(\"SciPy version: {v:s}\".format(v = sp.__version__))\n",
    "print(\"NumPy version: {v:s}\".format(v = np.__version__))\n",
    "print(\"Pandas version: {v:s}\".format(v = pd.__version__))\n",
    "print(\"Matplotlib version: {v:s}\".format(v = mpl.__version__))\n"
   ]
  },
  {
   "cell_type": "markdown",
   "metadata": {},
   "source": [
    "## Importing Raw Data\n"
   ]
  },
  {
   "cell_type": "markdown",
   "metadata": {},
   "source": [
    "We shall import the raw data downloaded at [[3]](#bib-Okhuijsen19) with minimal manipulation during the importing (see parameters `names` and `converters` in [`pd.read_excel` function](http://pandas.pydata.org/pandas-docs/stable/reference/api/pandas.read_excel.html) call below).\n"
   ]
  },
  {
   "cell_type": "code",
   "execution_count": 8,
   "metadata": {},
   "outputs": [],
   "source": [
    "# Read data from the Excel spreadsheet.\n",
    "df = pd.read_excel(\n",
    "    'data/eurovision_song_contest_1975_2019v3.xlsx',\n",
    "    sheet_name = 'Data',\n",
    "    header = 0,\n",
    "    names = [\n",
    "        'year',\n",
    "        'contest_level',\n",
    "        'edition',\n",
    "        'by',\n",
    "        'from',\n",
    "        'to',\n",
    "        'points',\n",
    "        'duplicate'\n",
    "    ],\n",
    "    index_col = None,\n",
    "    converters = {\n",
    "        'contest_level': (\n",
    "            lambda l:\n",
    "                'semifinal' if l.upper() in {'SF', 'SF1', 'SF2'}\n",
    "                else 'final' if l.upper() == 'F'\n",
    "                else None\n",
    "        ),\n",
    "        'by': (\n",
    "            lambda s:\n",
    "                'jury' if s.upper() == 'J'\n",
    "                else 'televoting' if s.upper() == 'T'\n",
    "                else None\n",
    "        ),\n",
    "        'duplicate': (\n",
    "            lambda d:\n",
    "                True if d.upper() == 'X'\n",
    "                else False if not d\n",
    "                else None\n",
    "        )\n",
    "    }\n",
    ")\n"
   ]
  },
  {
   "cell_type": "markdown",
   "metadata": {},
   "source": [
    "The dataframe now holds information about scoring points in all contests (at all levels&mdash;both semifinal and final), as well as who gave them and who received them.\n"
   ]
  },
  {
   "cell_type": "code",
   "execution_count": 9,
   "metadata": {},
   "outputs": [
    {
     "name": "stdout",
     "output_type": "stream",
     "text": [
      "<class 'pandas.core.frame.DataFrame'>\n",
      "RangeIndex: 49832 entries, 0 to 49831\n",
      "Data columns (total 8 columns):\n",
      " #   Column         Non-Null Count  Dtype \n",
      "---  ------         --------------  ----- \n",
      " 0   year           49832 non-null  int64 \n",
      " 1   contest_level  49832 non-null  object\n",
      " 2   edition        49832 non-null  object\n",
      " 3   by             49832 non-null  object\n",
      " 4   from           49832 non-null  object\n",
      " 5   to             49832 non-null  object\n",
      " 6   points         49832 non-null  int64 \n",
      " 7   duplicate      49832 non-null  bool  \n",
      "dtypes: bool(1), int64(2), object(5)\n",
      "memory usage: 2.7+ MB\n"
     ]
    }
   ],
   "source": [
    "df.info()\n"
   ]
  },
  {
   "cell_type": "code",
   "execution_count": 10,
   "metadata": {},
   "outputs": [
    {
     "data": {
      "text/html": [
       "<div>\n",
       "<style scoped>\n",
       "    .dataframe tbody tr th:only-of-type {\n",
       "        vertical-align: middle;\n",
       "    }\n",
       "\n",
       "    .dataframe tbody tr th {\n",
       "        vertical-align: top;\n",
       "    }\n",
       "\n",
       "    .dataframe thead th {\n",
       "        text-align: right;\n",
       "    }\n",
       "</style>\n",
       "<table border=\"1\" class=\"dataframe\">\n",
       "  <thead>\n",
       "    <tr style=\"text-align: right;\">\n",
       "      <th></th>\n",
       "      <th>year</th>\n",
       "      <th>contest_level</th>\n",
       "      <th>edition</th>\n",
       "      <th>by</th>\n",
       "      <th>from</th>\n",
       "      <th>to</th>\n",
       "      <th>points</th>\n",
       "      <th>duplicate</th>\n",
       "    </tr>\n",
       "  </thead>\n",
       "  <tbody>\n",
       "    <tr>\n",
       "      <th>3503</th>\n",
       "      <td>1984</td>\n",
       "      <td>final</td>\n",
       "      <td>1984f</td>\n",
       "      <td>jury</td>\n",
       "      <td>Sweden</td>\n",
       "      <td>Belgium</td>\n",
       "      <td>0</td>\n",
       "      <td>False</td>\n",
       "    </tr>\n",
       "    <tr>\n",
       "      <th>4988</th>\n",
       "      <td>1988</td>\n",
       "      <td>final</td>\n",
       "      <td>1988f</td>\n",
       "      <td>jury</td>\n",
       "      <td>Greece</td>\n",
       "      <td>Belgium</td>\n",
       "      <td>0</td>\n",
       "      <td>False</td>\n",
       "    </tr>\n",
       "    <tr>\n",
       "      <th>8071</th>\n",
       "      <td>1994</td>\n",
       "      <td>final</td>\n",
       "      <td>1994f</td>\n",
       "      <td>jury</td>\n",
       "      <td>France</td>\n",
       "      <td>Malta</td>\n",
       "      <td>0</td>\n",
       "      <td>False</td>\n",
       "    </tr>\n",
       "    <tr>\n",
       "      <th>8473</th>\n",
       "      <td>1994</td>\n",
       "      <td>final</td>\n",
       "      <td>1994f</td>\n",
       "      <td>jury</td>\n",
       "      <td>Switzerland</td>\n",
       "      <td>Poland</td>\n",
       "      <td>10</td>\n",
       "      <td>False</td>\n",
       "    </tr>\n",
       "    <tr>\n",
       "      <th>9305</th>\n",
       "      <td>1996</td>\n",
       "      <td>final</td>\n",
       "      <td>1996f</td>\n",
       "      <td>jury</td>\n",
       "      <td>Ireland</td>\n",
       "      <td>Poland</td>\n",
       "      <td>0</td>\n",
       "      <td>False</td>\n",
       "    </tr>\n",
       "    <tr>\n",
       "      <th>10921</th>\n",
       "      <td>1999</td>\n",
       "      <td>final</td>\n",
       "      <td>1999f</td>\n",
       "      <td>jury</td>\n",
       "      <td>Croatia</td>\n",
       "      <td>Israel</td>\n",
       "      <td>8</td>\n",
       "      <td>False</td>\n",
       "    </tr>\n",
       "    <tr>\n",
       "      <th>12992</th>\n",
       "      <td>2002</td>\n",
       "      <td>final</td>\n",
       "      <td>2002f</td>\n",
       "      <td>jury</td>\n",
       "      <td>Switzerland</td>\n",
       "      <td>Latvia</td>\n",
       "      <td>8</td>\n",
       "      <td>False</td>\n",
       "    </tr>\n",
       "    <tr>\n",
       "      <th>27536</th>\n",
       "      <td>2011</td>\n",
       "      <td>final</td>\n",
       "      <td>2011f</td>\n",
       "      <td>jury</td>\n",
       "      <td>Spain</td>\n",
       "      <td>Lithuania</td>\n",
       "      <td>1</td>\n",
       "      <td>False</td>\n",
       "    </tr>\n",
       "    <tr>\n",
       "      <th>30892</th>\n",
       "      <td>2013</td>\n",
       "      <td>final</td>\n",
       "      <td>2013f</td>\n",
       "      <td>jury</td>\n",
       "      <td>Israel</td>\n",
       "      <td>Greece</td>\n",
       "      <td>2</td>\n",
       "      <td>False</td>\n",
       "    </tr>\n",
       "    <tr>\n",
       "      <th>32326</th>\n",
       "      <td>2014</td>\n",
       "      <td>final</td>\n",
       "      <td>2014f</td>\n",
       "      <td>jury</td>\n",
       "      <td>Georgia</td>\n",
       "      <td>Spain</td>\n",
       "      <td>0</td>\n",
       "      <td>False</td>\n",
       "    </tr>\n",
       "    <tr>\n",
       "      <th>35527</th>\n",
       "      <td>2016</td>\n",
       "      <td>final</td>\n",
       "      <td>2016f</td>\n",
       "      <td>jury</td>\n",
       "      <td>Croatia</td>\n",
       "      <td>Italy</td>\n",
       "      <td>3</td>\n",
       "      <td>False</td>\n",
       "    </tr>\n",
       "    <tr>\n",
       "      <th>41820</th>\n",
       "      <td>2017</td>\n",
       "      <td>semifinal</td>\n",
       "      <td>2017sf2</td>\n",
       "      <td>jury</td>\n",
       "      <td>Belarus</td>\n",
       "      <td>Denmark</td>\n",
       "      <td>2</td>\n",
       "      <td>False</td>\n",
       "    </tr>\n",
       "  </tbody>\n",
       "</table>\n",
       "</div>"
      ],
      "text/plain": [
       "       year contest_level  edition    by         from         to  points  \\\n",
       "3503   1984         final    1984f  jury       Sweden    Belgium       0   \n",
       "4988   1988         final    1988f  jury       Greece    Belgium       0   \n",
       "8071   1994         final    1994f  jury       France      Malta       0   \n",
       "8473   1994         final    1994f  jury  Switzerland     Poland      10   \n",
       "9305   1996         final    1996f  jury      Ireland     Poland       0   \n",
       "10921  1999         final    1999f  jury      Croatia     Israel       8   \n",
       "12992  2002         final    2002f  jury  Switzerland     Latvia       8   \n",
       "27536  2011         final    2011f  jury        Spain  Lithuania       1   \n",
       "30892  2013         final    2013f  jury       Israel     Greece       2   \n",
       "32326  2014         final    2014f  jury      Georgia      Spain       0   \n",
       "35527  2016         final    2016f  jury      Croatia      Italy       3   \n",
       "41820  2017     semifinal  2017sf2  jury      Belarus    Denmark       2   \n",
       "\n",
       "       duplicate  \n",
       "3503       False  \n",
       "4988       False  \n",
       "8071       False  \n",
       "8473       False  \n",
       "9305       False  \n",
       "10921      False  \n",
       "12992      False  \n",
       "27536      False  \n",
       "30892      False  \n",
       "32326      False  \n",
       "35527      False  \n",
       "41820      False  "
      ]
     },
     "execution_count": 10,
     "metadata": {},
     "output_type": "execute_result"
    }
   ],
   "source": [
    "df.sample(12, replace = False, random_state = 2020).sort_index()\n"
   ]
  },
  {
   "cell_type": "markdown",
   "metadata": {},
   "source": [
    "However, such detailed information is redundant. All we really need is how much each country scored in total. Furthermore, we are not interested in semifinals because score distribution would then be inconsistent and the consistency would be hard, if not impossible, to recreate.\n"
   ]
  },
  {
   "cell_type": "markdown",
   "metadata": {},
   "source": [
    "## Reduction of Unnecessary Data\n"
   ]
  },
  {
   "cell_type": "markdown",
   "metadata": {},
   "source": [
    "We shall now simplify the dataframe in a more compact and useful format, as mentioned before.\n"
   ]
  },
  {
   "cell_type": "code",
   "execution_count": 11,
   "metadata": {},
   "outputs": [],
   "source": [
    "# Drop unnecessary rows and columns.\n",
    "df.dropna(axis = 0, how = 'any', inplace = True)\n",
    "df.drop(\n",
    "    df.index[df.contest_level != 'final'],\n",
    "    axis = 0,\n",
    "    inplace = True\n",
    ")\n",
    "df.drop(\n",
    "    ['contest_level', 'edition', 'by', 'from', 'duplicate'],\n",
    "    axis = 1,\n",
    "    inplace = True\n",
    ")\n",
    "\n",
    "# Aggregate by the accumulated score.\n",
    "df = df.groupby(\n",
    "    ['to', 'year'],\n",
    "    axis = 0,\n",
    "    sort = False\n",
    ").sum().reset_index(\n",
    "    drop = False,\n",
    "    inplace = False,\n",
    "    col_fill = None\n",
    ")\n",
    "df.columns = ['country', 'year', 'score']\n",
    "df.sort_values(\n",
    "    ['year', 'country', 'score'],\n",
    "    axis = 0,\n",
    "    ascending = [True, True, False],\n",
    "    inplace = True\n",
    ")\n",
    "df.reset_index(drop = True, inplace = True)\n",
    "\n",
    "# Create a new dataframe to ensure its internal memory optimisation.\n",
    "df = df.copy(deep = True)\n"
   ]
  },
  {
   "cell_type": "markdown",
   "metadata": {},
   "source": [
    "Let us observe the current state of the dataframe.\n"
   ]
  },
  {
   "cell_type": "code",
   "execution_count": 12,
   "metadata": {},
   "outputs": [
    {
     "name": "stdout",
     "output_type": "stream",
     "text": [
      "<class 'pandas.core.frame.DataFrame'>\n",
      "RangeIndex: 1032 entries, 0 to 1031\n",
      "Data columns (total 3 columns):\n",
      " #   Column   Non-Null Count  Dtype \n",
      "---  ------   --------------  ----- \n",
      " 0   country  1032 non-null   object\n",
      " 1   year     1032 non-null   int64 \n",
      " 2   score    1032 non-null   int64 \n",
      "dtypes: int64(2), object(1)\n",
      "memory usage: 24.3+ KB\n"
     ]
    }
   ],
   "source": [
    "df.info()\n"
   ]
  },
  {
   "cell_type": "code",
   "execution_count": 13,
   "metadata": {},
   "outputs": [
    {
     "data": {
      "text/html": [
       "<div>\n",
       "<style scoped>\n",
       "    .dataframe tbody tr th:only-of-type {\n",
       "        vertical-align: middle;\n",
       "    }\n",
       "\n",
       "    .dataframe tbody tr th {\n",
       "        vertical-align: top;\n",
       "    }\n",
       "\n",
       "    .dataframe thead th {\n",
       "        text-align: right;\n",
       "    }\n",
       "</style>\n",
       "<table border=\"1\" class=\"dataframe\">\n",
       "  <thead>\n",
       "    <tr style=\"text-align: right;\">\n",
       "      <th></th>\n",
       "      <th>country</th>\n",
       "      <th>year</th>\n",
       "      <th>score</th>\n",
       "    </tr>\n",
       "  </thead>\n",
       "  <tbody>\n",
       "    <tr>\n",
       "      <th>39</th>\n",
       "      <td>Finland</td>\n",
       "      <td>1977</td>\n",
       "      <td>50</td>\n",
       "    </tr>\n",
       "    <tr>\n",
       "      <th>297</th>\n",
       "      <td>Denmark</td>\n",
       "      <td>1990</td>\n",
       "      <td>64</td>\n",
       "    </tr>\n",
       "    <tr>\n",
       "      <th>318</th>\n",
       "      <td>Cyprus</td>\n",
       "      <td>1991</td>\n",
       "      <td>60</td>\n",
       "    </tr>\n",
       "    <tr>\n",
       "      <th>322</th>\n",
       "      <td>Germany</td>\n",
       "      <td>1991</td>\n",
       "      <td>10</td>\n",
       "    </tr>\n",
       "    <tr>\n",
       "      <th>352</th>\n",
       "      <td>Norway</td>\n",
       "      <td>1992</td>\n",
       "      <td>23</td>\n",
       "    </tr>\n",
       "    <tr>\n",
       "      <th>369</th>\n",
       "      <td>Germany</td>\n",
       "      <td>1993</td>\n",
       "      <td>18</td>\n",
       "    </tr>\n",
       "    <tr>\n",
       "      <th>386</th>\n",
       "      <td>Austria</td>\n",
       "      <td>1994</td>\n",
       "      <td>19</td>\n",
       "    </tr>\n",
       "    <tr>\n",
       "      <th>612</th>\n",
       "      <td>Israel</td>\n",
       "      <td>2003</td>\n",
       "      <td>17</td>\n",
       "    </tr>\n",
       "    <tr>\n",
       "      <th>869</th>\n",
       "      <td>Russia</td>\n",
       "      <td>2013</td>\n",
       "      <td>174</td>\n",
       "    </tr>\n",
       "    <tr>\n",
       "      <th>872</th>\n",
       "      <td>The Netherlands</td>\n",
       "      <td>2013</td>\n",
       "      <td>114</td>\n",
       "    </tr>\n",
       "    <tr>\n",
       "      <th>881</th>\n",
       "      <td>France</td>\n",
       "      <td>2014</td>\n",
       "      <td>2</td>\n",
       "    </tr>\n",
       "    <tr>\n",
       "      <th>883</th>\n",
       "      <td>Greece</td>\n",
       "      <td>2014</td>\n",
       "      <td>35</td>\n",
       "    </tr>\n",
       "  </tbody>\n",
       "</table>\n",
       "</div>"
      ],
      "text/plain": [
       "             country  year  score\n",
       "39           Finland  1977     50\n",
       "297          Denmark  1990     64\n",
       "318           Cyprus  1991     60\n",
       "322          Germany  1991     10\n",
       "352           Norway  1992     23\n",
       "369          Germany  1993     18\n",
       "386          Austria  1994     19\n",
       "612           Israel  2003     17\n",
       "869           Russia  2013    174\n",
       "872  The Netherlands  2013    114\n",
       "881           France  2014      2\n",
       "883           Greece  2014     35"
      ]
     },
     "execution_count": 13,
     "metadata": {},
     "output_type": "execute_result"
    }
   ],
   "source": [
    "df.sample(12, replace = False, random_state = 2020).sort_index()\n"
   ]
  },
  {
   "cell_type": "markdown",
   "metadata": {},
   "source": [
    "The number of entries (rows) dropped drastically, from $ 49832 $ to $ 1032 $ (by $ 97.93 \\, \\% $). The dataframe is now more informant<sup>[1](#footnote-1)</sup>, too: for instance, if we want to know how much France scored in $ 1995 $ finals, all we need to do is find `df.loc[(df.country == 'France') & (df.year == 1995), 'score']` (in the earlier format, a group-by and an aggregate function were needed to obtain the information).\n",
    "\n",
    "---\n",
    "\n",
    "<a class=\"anchor\" id=\"footnote-1\"></a><sup>1</sup> Of course, one can argue that the original dataframe was more *informant* since it held more details and therefore more information. However, in the context of this project, the relevant data is actually total score of each country in the finals, which will be normalised later. Since this dataframe now explicitly holds such information, it is considered more informant than the original one.\n"
   ]
  },
  {
   "cell_type": "code",
   "execution_count": 14,
   "metadata": {},
   "outputs": [
    {
     "data": {
      "text/plain": [
       "94"
      ]
     },
     "execution_count": 14,
     "metadata": {},
     "output_type": "execute_result"
    }
   ],
   "source": [
    "int(df.loc[(df.country == 'France') & (df.year == 1995), 'score'])\n"
   ]
  },
  {
   "cell_type": "markdown",
   "metadata": {},
   "source": [
    "## Adding Missing Years\n"
   ]
  },
  {
   "cell_type": "markdown",
   "metadata": {},
   "source": [
    "Observe that the dataframe starts at year $ 1975 $.\n"
   ]
  },
  {
   "cell_type": "code",
   "execution_count": 15,
   "metadata": {},
   "outputs": [
    {
     "data": {
      "text/plain": [
       "1975"
      ]
     },
     "execution_count": 15,
     "metadata": {},
     "output_type": "execute_result"
    }
   ],
   "source": [
    "df.year.min()\n"
   ]
  },
  {
   "cell_type": "markdown",
   "metadata": {},
   "source": [
    "However, the Contest started earlier, in year $ 1956 $. The official database at [[1]](#bib-ESCDB) holds records of scores from the beginning, since year $ 1957 $. As it is mentioned at [[2]](#bib-EVW), voting was secret in year $ 1956 $, while the voting/scoring system changed in year $ 1975 $ and remained relatively unchanged since (which is probably why [[3]](#bib-Okhuijsen19) holds only records starting from year $ 1975 $). The author gathered data from years $ 1957 $&ndash;$ 1974 $ into a new spreadsheet which we shall now incorporate.\n"
   ]
  },
  {
   "cell_type": "code",
   "execution_count": 16,
   "metadata": {},
   "outputs": [],
   "source": [
    "# Join the dataframe with missing years.\n",
    "df = pd.concat(\n",
    "    (\n",
    "        pd.read_excel(\n",
    "            'data/eurovision_song_contest_1957_1974.xlsx',\n",
    "            sheet_name = 'Data',\n",
    "            header = 0,\n",
    "            names = df.columns,\n",
    "            index_col = None\n",
    "        ),\n",
    "        df\n",
    "    ),\n",
    "    axis = 0,\n",
    "    ignore_index = True\n",
    ")\n",
    "df.sort_values(\n",
    "    ['year', 'country', 'score'],\n",
    "    axis = 0,\n",
    "    ascending = [True, True, False],\n",
    "    inplace = True\n",
    ")\n",
    "df.reset_index(drop = True, inplace = True)\n",
    "\n",
    "# Create a new dataframe to ensure its internal memory optimisation.\n",
    "df = df.copy(deep = True)\n"
   ]
  },
  {
   "cell_type": "markdown",
   "metadata": {},
   "source": [
    "Of course, information about the dataframe's size and data has changed again.\n"
   ]
  },
  {
   "cell_type": "code",
   "execution_count": 17,
   "metadata": {},
   "outputs": [
    {
     "name": "stdout",
     "output_type": "stream",
     "text": [
      "<class 'pandas.core.frame.DataFrame'>\n",
      "RangeIndex: 1308 entries, 0 to 1307\n",
      "Data columns (total 3 columns):\n",
      " #   Column   Non-Null Count  Dtype \n",
      "---  ------   --------------  ----- \n",
      " 0   country  1308 non-null   object\n",
      " 1   year     1308 non-null   int64 \n",
      " 2   score    1308 non-null   int64 \n",
      "dtypes: int64(2), object(1)\n",
      "memory usage: 30.8+ KB\n"
     ]
    }
   ],
   "source": [
    "df.info()\n"
   ]
  },
  {
   "cell_type": "code",
   "execution_count": 18,
   "metadata": {},
   "outputs": [
    {
     "data": {
      "text/html": [
       "<div>\n",
       "<style scoped>\n",
       "    .dataframe tbody tr th:only-of-type {\n",
       "        vertical-align: middle;\n",
       "    }\n",
       "\n",
       "    .dataframe tbody tr th {\n",
       "        vertical-align: top;\n",
       "    }\n",
       "\n",
       "    .dataframe thead th {\n",
       "        text-align: right;\n",
       "    }\n",
       "</style>\n",
       "<table border=\"1\" class=\"dataframe\">\n",
       "  <thead>\n",
       "    <tr style=\"text-align: right;\">\n",
       "      <th></th>\n",
       "      <th>country</th>\n",
       "      <th>year</th>\n",
       "      <th>score</th>\n",
       "    </tr>\n",
       "  </thead>\n",
       "  <tbody>\n",
       "    <tr>\n",
       "      <th>44</th>\n",
       "      <td>Austria</td>\n",
       "      <td>1961</td>\n",
       "      <td>1</td>\n",
       "    </tr>\n",
       "    <tr>\n",
       "      <th>51</th>\n",
       "      <td>Luxembourg</td>\n",
       "      <td>1961</td>\n",
       "      <td>31</td>\n",
       "    </tr>\n",
       "    <tr>\n",
       "      <th>194</th>\n",
       "      <td>Belgium</td>\n",
       "      <td>1970</td>\n",
       "      <td>5</td>\n",
       "    </tr>\n",
       "    <tr>\n",
       "      <th>279</th>\n",
       "      <td>Germany</td>\n",
       "      <td>1975</td>\n",
       "      <td>15</td>\n",
       "    </tr>\n",
       "    <tr>\n",
       "      <th>409</th>\n",
       "      <td>Austria</td>\n",
       "      <td>1982</td>\n",
       "      <td>57</td>\n",
       "    </tr>\n",
       "    <tr>\n",
       "      <th>820</th>\n",
       "      <td>Malta</td>\n",
       "      <td>2000</td>\n",
       "      <td>73</td>\n",
       "    </tr>\n",
       "    <tr>\n",
       "      <th>861</th>\n",
       "      <td>Finland</td>\n",
       "      <td>2002</td>\n",
       "      <td>24</td>\n",
       "    </tr>\n",
       "    <tr>\n",
       "      <th>1017</th>\n",
       "      <td>Russia</td>\n",
       "      <td>2008</td>\n",
       "      <td>272</td>\n",
       "    </tr>\n",
       "    <tr>\n",
       "      <th>1135</th>\n",
       "      <td>Greece</td>\n",
       "      <td>2013</td>\n",
       "      <td>152</td>\n",
       "    </tr>\n",
       "    <tr>\n",
       "      <th>1190</th>\n",
       "      <td>Israel</td>\n",
       "      <td>2015</td>\n",
       "      <td>97</td>\n",
       "    </tr>\n",
       "    <tr>\n",
       "      <th>1191</th>\n",
       "      <td>Italy</td>\n",
       "      <td>2015</td>\n",
       "      <td>292</td>\n",
       "    </tr>\n",
       "    <tr>\n",
       "      <th>1258</th>\n",
       "      <td>Austria</td>\n",
       "      <td>2018</td>\n",
       "      <td>342</td>\n",
       "    </tr>\n",
       "  </tbody>\n",
       "</table>\n",
       "</div>"
      ],
      "text/plain": [
       "         country  year  score\n",
       "44       Austria  1961      1\n",
       "51    Luxembourg  1961     31\n",
       "194      Belgium  1970      5\n",
       "279      Germany  1975     15\n",
       "409      Austria  1982     57\n",
       "820        Malta  2000     73\n",
       "861      Finland  2002     24\n",
       "1017      Russia  2008    272\n",
       "1135      Greece  2013    152\n",
       "1190      Israel  2015     97\n",
       "1191       Italy  2015    292\n",
       "1258     Austria  2018    342"
      ]
     },
     "execution_count": 18,
     "metadata": {},
     "output_type": "execute_result"
    }
   ],
   "source": [
    "df.sample(12, replace = False, random_state = 2020).sort_index()\n"
   ]
  },
  {
   "cell_type": "markdown",
   "metadata": {},
   "source": [
    "In the end, the dataframe holds $ 1308 $ entries, meaning $ 276 $ ($ {+ 26.74} \\, \\% $ more than before, $ 21.10 \\, \\% $ of total) entries of missing years were added.\n"
   ]
  },
  {
   "cell_type": "markdown",
   "metadata": {},
   "source": [
    "## Names of Countries\n"
   ]
  },
  {
   "cell_type": "markdown",
   "metadata": {},
   "source": [
    "Let us observe the names of all countries appearing in the dataframe-\n"
   ]
  },
  {
   "cell_type": "code",
   "execution_count": 19,
   "metadata": {},
   "outputs": [
    {
     "data": {
      "text/plain": [
       "['Albania',\n",
       " 'Armenia',\n",
       " 'Australia',\n",
       " 'Austria',\n",
       " 'Azerbaijan',\n",
       " 'Belarus',\n",
       " 'Belgium',\n",
       " 'Bosnia & Herzegovina',\n",
       " 'Bulgaria',\n",
       " 'Croatia',\n",
       " 'Cyprus',\n",
       " 'Czech Republic',\n",
       " 'Denmark',\n",
       " 'Estonia',\n",
       " 'F.Y.R. Macedonia',\n",
       " 'Finland',\n",
       " 'France',\n",
       " 'Georgia',\n",
       " 'Germany',\n",
       " 'Greece',\n",
       " 'Hungary',\n",
       " 'Iceland',\n",
       " 'Ireland',\n",
       " 'Israel',\n",
       " 'Italy',\n",
       " 'Latvia',\n",
       " 'Lithuania',\n",
       " 'Luxembourg',\n",
       " 'Malta',\n",
       " 'Moldova',\n",
       " 'Monaco',\n",
       " 'Montenegro',\n",
       " 'Morocco',\n",
       " 'North Macedonia',\n",
       " 'Norway',\n",
       " 'Poland',\n",
       " 'Portugal',\n",
       " 'Romania',\n",
       " 'Russia',\n",
       " 'San Marino',\n",
       " 'Serbia',\n",
       " 'Serbia & Montenegro',\n",
       " 'Slovakia',\n",
       " 'Slovenia',\n",
       " 'Spain',\n",
       " 'Sweden',\n",
       " 'Switzerland',\n",
       " 'The Netherlands',\n",
       " 'Turkey',\n",
       " 'Ukraine',\n",
       " 'United Kingdom',\n",
       " 'Yugoslavia']"
      ]
     },
     "execution_count": 19,
     "metadata": {},
     "output_type": "execute_result"
    }
   ],
   "source": [
    "np.sort(np.asarray(df.country.unique()).ravel()).tolist()\n"
   ]
  },
  {
   "cell_type": "markdown",
   "metadata": {},
   "source": [
    "As we can see, some of the countries no longer exist (Yugoslavia, Serbia and Montenegro) or they are named differently now (FYR Macedonia).\n",
    "\n",
    "We shall now change entries of such countries by using the current countries' names. In case of now broken-up federations and unions (Yugoslavia, Serbia and Montenegro) the names of current countries of origin of contestants shall be used. This information was found by browsing [*Wikipedia*](http://wikipedia.org/).\n"
   ]
  },
  {
   "cell_type": "code",
   "execution_count": 20,
   "metadata": {},
   "outputs": [],
   "source": [
    "# **Note.** The following collections in no way represent the author's\n",
    "# political or any other views nor do they imply existence or non-existence of\n",
    "# any state / validity or non-validity of its statehood.  The information is\n",
    "# gathered from actual history which, without a doubt, happend while the\n",
    "# variables are only named associatively to make the source code more readable.\n",
    "\n",
    "Yugoslavia = frozenset(\n",
    "    {\n",
    "        'Yugoslavia',\n",
    "        'Serbia & Montenegro',\n",
    "        'Bosnia & Herzegovina',\n",
    "        'Croatia',\n",
    "        'Kosovo',\n",
    "        'Montenegro',\n",
    "        'F.Y.R. Macedonia',\n",
    "        'North Macedonia',\n",
    "        'Serbia',\n",
    "        'Slovenia'\n",
    "    }\n",
    ")\n",
    "SerbiaAndMontenegro = frozenset(\n",
    "    {\n",
    "        'Serbia & Montenegro',\n",
    "        'Kosovo',\n",
    "        'Montenegro',\n",
    "        'Serbia'\n",
    "    }\n",
    ")\n",
    "BosniaAndHerzegovina = frozenset(\n",
    "    {\n",
    "        'Bosnia & Herzegovina'\n",
    "    }\n",
    ")\n",
    "Croatia = frozenset(\n",
    "    {\n",
    "        'Croatia'\n",
    "    }\n",
    ")\n",
    "Kosovo = frozenset(\n",
    "    {\n",
    "        'Kosovo'\n",
    "    }\n",
    ")\n",
    "Montenegro = frozenset(\n",
    "    {\n",
    "        'Montenegro'\n",
    "    }\n",
    ")\n",
    "Macedonia = frozenset(\n",
    "    {\n",
    "        'F.Y.R. Macedonia',\n",
    "        'North Macedonia'\n",
    "    }\n",
    ")\n",
    "Serbia = frozenset(\n",
    "    {\n",
    "        'Serbia',\n",
    "        'Kosovo'\n",
    "    }\n",
    ")\n",
    "Slovenia = frozenset(\n",
    "    {\n",
    "        'Slovenia'\n",
    "    }\n",
    ")\n"
   ]
  },
  {
   "cell_type": "code",
   "execution_count": 21,
   "metadata": {},
   "outputs": [
    {
     "data": {
      "text/html": [
       "<div>\n",
       "<style scoped>\n",
       "    .dataframe tbody tr th:only-of-type {\n",
       "        vertical-align: middle;\n",
       "    }\n",
       "\n",
       "    .dataframe tbody tr th {\n",
       "        vertical-align: top;\n",
       "    }\n",
       "\n",
       "    .dataframe thead th {\n",
       "        text-align: right;\n",
       "    }\n",
       "</style>\n",
       "<table border=\"1\" class=\"dataframe\">\n",
       "  <thead>\n",
       "    <tr style=\"text-align: right;\">\n",
       "      <th></th>\n",
       "      <th>country</th>\n",
       "      <th>year</th>\n",
       "      <th>score</th>\n",
       "    </tr>\n",
       "  </thead>\n",
       "  <tbody>\n",
       "    <tr>\n",
       "      <th>258</th>\n",
       "      <td>Yugoslavia</td>\n",
       "      <td>1973</td>\n",
       "      <td>65</td>\n",
       "    </tr>\n",
       "    <tr>\n",
       "      <th>569</th>\n",
       "      <td>Yugoslavia</td>\n",
       "      <td>1989</td>\n",
       "      <td>137</td>\n",
       "    </tr>\n",
       "    <tr>\n",
       "      <th>759</th>\n",
       "      <td>Croatia</td>\n",
       "      <td>1998</td>\n",
       "      <td>131</td>\n",
       "    </tr>\n",
       "    <tr>\n",
       "      <th>776</th>\n",
       "      <td>Slovenia</td>\n",
       "      <td>1998</td>\n",
       "      <td>17</td>\n",
       "    </tr>\n",
       "    <tr>\n",
       "      <th>785</th>\n",
       "      <td>Bosnia &amp; Herzegovina</td>\n",
       "      <td>1999</td>\n",
       "      <td>86</td>\n",
       "    </tr>\n",
       "    <tr>\n",
       "      <th>808</th>\n",
       "      <td>Croatia</td>\n",
       "      <td>2000</td>\n",
       "      <td>70</td>\n",
       "    </tr>\n",
       "    <tr>\n",
       "      <th>896</th>\n",
       "      <td>Slovenia</td>\n",
       "      <td>2003</td>\n",
       "      <td>7</td>\n",
       "    </tr>\n",
       "    <tr>\n",
       "      <th>907</th>\n",
       "      <td>Croatia</td>\n",
       "      <td>2004</td>\n",
       "      <td>50</td>\n",
       "    </tr>\n",
       "    <tr>\n",
       "      <th>992</th>\n",
       "      <td>Serbia</td>\n",
       "      <td>2007</td>\n",
       "      <td>268</td>\n",
       "    </tr>\n",
       "    <tr>\n",
       "      <th>1164</th>\n",
       "      <td>Montenegro</td>\n",
       "      <td>2014</td>\n",
       "      <td>37</td>\n",
       "    </tr>\n",
       "    <tr>\n",
       "      <th>1170</th>\n",
       "      <td>Slovenia</td>\n",
       "      <td>2014</td>\n",
       "      <td>9</td>\n",
       "    </tr>\n",
       "    <tr>\n",
       "      <th>1224</th>\n",
       "      <td>Serbia</td>\n",
       "      <td>2016</td>\n",
       "      <td>115</td>\n",
       "    </tr>\n",
       "  </tbody>\n",
       "</table>\n",
       "</div>"
      ],
      "text/plain": [
       "                   country  year  score\n",
       "258             Yugoslavia  1973     65\n",
       "569             Yugoslavia  1989    137\n",
       "759                Croatia  1998    131\n",
       "776               Slovenia  1998     17\n",
       "785   Bosnia & Herzegovina  1999     86\n",
       "808                Croatia  2000     70\n",
       "896               Slovenia  2003      7\n",
       "907                Croatia  2004     50\n",
       "992                 Serbia  2007    268\n",
       "1164            Montenegro  2014     37\n",
       "1170              Slovenia  2014      9\n",
       "1224                Serbia  2016    115"
      ]
     },
     "execution_count": 21,
     "metadata": {},
     "output_type": "execute_result"
    }
   ],
   "source": [
    "df.loc[df.country.isin(Yugoslavia)].sample(12, replace = False, random_state = 2020).sort_index()\n"
   ]
  },
  {
   "cell_type": "code",
   "execution_count": 22,
   "metadata": {},
   "outputs": [],
   "source": [
    "df.loc[(df.country == 'Yugoslavia') & (df.year == 1961), 'country'] = 'Serbia'\n",
    "df.loc[(df.country == 'Yugoslavia') & (df.year == 1962), 'country'] = 'Serbia'\n",
    "df.loc[(df.country == 'Yugoslavia') & (df.year == 1963), 'country'] = 'Croatia'\n",
    "df.loc[(df.country == 'Yugoslavia') & (df.year == 1964), 'country'] = 'Bosnia & Herzegovina'\n",
    "df.loc[(df.country == 'Yugoslavia') & (df.year == 1965), 'country'] = 'Croatia'\n",
    "df.loc[(df.country == 'Yugoslavia') & (df.year == 1966), 'country'] = 'Slovenia'\n",
    "df.loc[(df.country == 'Yugoslavia') & (df.year == 1967), 'country'] = 'Slovenia'\n",
    "df.loc[(df.country == 'Yugoslavia') & (df.year == 1968), 'country'] = 'Croatia'\n",
    "df.loc[(df.country == 'Yugoslavia') & (df.year == 1969), 'country'] = 'Croatia'\n",
    "df.loc[(df.country == 'Yugoslavia') & (df.year == 1970), 'country'] = 'Slovenia'\n",
    "df.loc[(df.country == 'Yugoslavia') & (df.year == 1971), 'country'] = 'Croatia'\n",
    "df.loc[(df.country == 'Yugoslavia') & (df.year == 1972), 'country'] = 'Croatia'\n",
    "df.loc[(df.country == 'Yugoslavia') & (df.year == 1973), 'country'] = 'Bosnia & Herzegovina'\n",
    "df.loc[(df.country == 'Yugoslavia') & (df.year == 1974), 'country'] = 'Serbia'\n",
    "df.loc[(df.country == 'Yugoslavia') & (df.year == 1975), 'country'] = 'Slovenia'\n",
    "df.loc[(df.country == 'Yugoslavia') & (df.year == 1976), 'country'] = 'Bosnia & Herzegovina'\n",
    "df.loc[(df.country == 'Yugoslavia') & (df.year == 1981), 'country'] = 'Bosnia & Herzegovina'\n",
    "df.loc[(df.country == 'Yugoslavia') & (df.year == 1982), 'country'] = 'Serbia'\n",
    "df.loc[(df.country == 'Yugoslavia') & (df.year == 1983), 'country'] = 'Montenegro'\n",
    "df.loc[(df.country == 'Yugoslavia') & (df.year == 1984), 'country'] = 'Croatia' # see commentary below\n",
    "df.loc[(df.country == 'Yugoslavia') & (df.year == 1986), 'country'] = 'Croatia'\n",
    "df.loc[(df.country == 'Yugoslavia') & (df.year == 1987), 'country'] = 'Croatia'\n",
    "df.loc[(df.country == 'Yugoslavia') & (df.year == 1988), 'country'] = 'Croatia'\n",
    "df.loc[(df.country == 'Yugoslavia') & (df.year == 1989), 'country'] = 'Croatia'\n",
    "df.loc[(df.country == 'Yugoslavia') & (df.year == 1990), 'country'] = 'Croatia'\n",
    "df.loc[(df.country == 'Yugoslavia') & (df.year == 1991), 'country'] = 'Serbia'\n",
    "df.loc[(df.country == 'Yugoslavia') & (df.year == 1992), 'country'] = 'Serbia'\n",
    "df.loc[(df.country == 'Serbia & Montenegro') & (df.year == 2004), 'country'] = 'Serbia'\n",
    "df.loc[(df.country == 'Serbia & Montenegro') & (df.year == 2005), 'country'] = 'Montenegro'\n",
    "df.loc[df.country == 'F.Y.R. Macedonia', 'country'] = 'North Macedonia'\n"
   ]
  },
  {
   "cell_type": "markdown",
   "metadata": {},
   "source": [
    "**Commentary**\n",
    "\n",
    "1.  In year $ 1984 $ Yugoslavian contestants were a duo consisting of Croatian male singer **Vlado Kalember** and Serbian female singer **Izolda Barudžija**. However, the official database states the performer(s) at [[1]](#bib-ESCDB) as *Vlado and Isolda*, giving Vlado Kalember precedence.\n"
   ]
  },
  {
   "cell_type": "markdown",
   "metadata": {},
   "source": [
    "The sample from the dataframe given above now looks as following.\n"
   ]
  },
  {
   "cell_type": "code",
   "execution_count": 23,
   "metadata": {},
   "outputs": [
    {
     "data": {
      "text/html": [
       "<div>\n",
       "<style scoped>\n",
       "    .dataframe tbody tr th:only-of-type {\n",
       "        vertical-align: middle;\n",
       "    }\n",
       "\n",
       "    .dataframe tbody tr th {\n",
       "        vertical-align: top;\n",
       "    }\n",
       "\n",
       "    .dataframe thead th {\n",
       "        text-align: right;\n",
       "    }\n",
       "</style>\n",
       "<table border=\"1\" class=\"dataframe\">\n",
       "  <thead>\n",
       "    <tr style=\"text-align: right;\">\n",
       "      <th></th>\n",
       "      <th>country</th>\n",
       "      <th>year</th>\n",
       "      <th>score</th>\n",
       "    </tr>\n",
       "  </thead>\n",
       "  <tbody>\n",
       "    <tr>\n",
       "      <th>258</th>\n",
       "      <td>Bosnia &amp; Herzegovina</td>\n",
       "      <td>1973</td>\n",
       "      <td>65</td>\n",
       "    </tr>\n",
       "    <tr>\n",
       "      <th>569</th>\n",
       "      <td>Croatia</td>\n",
       "      <td>1989</td>\n",
       "      <td>137</td>\n",
       "    </tr>\n",
       "    <tr>\n",
       "      <th>759</th>\n",
       "      <td>Croatia</td>\n",
       "      <td>1998</td>\n",
       "      <td>131</td>\n",
       "    </tr>\n",
       "    <tr>\n",
       "      <th>776</th>\n",
       "      <td>Slovenia</td>\n",
       "      <td>1998</td>\n",
       "      <td>17</td>\n",
       "    </tr>\n",
       "    <tr>\n",
       "      <th>785</th>\n",
       "      <td>Bosnia &amp; Herzegovina</td>\n",
       "      <td>1999</td>\n",
       "      <td>86</td>\n",
       "    </tr>\n",
       "    <tr>\n",
       "      <th>808</th>\n",
       "      <td>Croatia</td>\n",
       "      <td>2000</td>\n",
       "      <td>70</td>\n",
       "    </tr>\n",
       "    <tr>\n",
       "      <th>896</th>\n",
       "      <td>Slovenia</td>\n",
       "      <td>2003</td>\n",
       "      <td>7</td>\n",
       "    </tr>\n",
       "    <tr>\n",
       "      <th>907</th>\n",
       "      <td>Croatia</td>\n",
       "      <td>2004</td>\n",
       "      <td>50</td>\n",
       "    </tr>\n",
       "    <tr>\n",
       "      <th>992</th>\n",
       "      <td>Serbia</td>\n",
       "      <td>2007</td>\n",
       "      <td>268</td>\n",
       "    </tr>\n",
       "    <tr>\n",
       "      <th>1164</th>\n",
       "      <td>Montenegro</td>\n",
       "      <td>2014</td>\n",
       "      <td>37</td>\n",
       "    </tr>\n",
       "    <tr>\n",
       "      <th>1170</th>\n",
       "      <td>Slovenia</td>\n",
       "      <td>2014</td>\n",
       "      <td>9</td>\n",
       "    </tr>\n",
       "    <tr>\n",
       "      <th>1224</th>\n",
       "      <td>Serbia</td>\n",
       "      <td>2016</td>\n",
       "      <td>115</td>\n",
       "    </tr>\n",
       "  </tbody>\n",
       "</table>\n",
       "</div>"
      ],
      "text/plain": [
       "                   country  year  score\n",
       "258   Bosnia & Herzegovina  1973     65\n",
       "569                Croatia  1989    137\n",
       "759                Croatia  1998    131\n",
       "776               Slovenia  1998     17\n",
       "785   Bosnia & Herzegovina  1999     86\n",
       "808                Croatia  2000     70\n",
       "896               Slovenia  2003      7\n",
       "907                Croatia  2004     50\n",
       "992                 Serbia  2007    268\n",
       "1164            Montenegro  2014     37\n",
       "1170              Slovenia  2014      9\n",
       "1224                Serbia  2016    115"
      ]
     },
     "execution_count": 23,
     "metadata": {},
     "output_type": "execute_result"
    }
   ],
   "source": [
    "df.loc[df.country.isin(Yugoslavia)].sample(12, replace = False, random_state = 2020).sort_index()\n"
   ]
  },
  {
   "cell_type": "markdown",
   "metadata": {},
   "source": [
    "Finally, to simplify names of countries, we shall employ one more mapping.\n"
   ]
  },
  {
   "cell_type": "code",
   "execution_count": 24,
   "metadata": {},
   "outputs": [],
   "source": [
    "df.loc[df.country == 'Bosnia & Herzegovina', 'country'] = 'Bosnia and Herzegovina'\n",
    "df.loc[df.country == 'Serbia & Montenegro', 'country'] = 'Serbia and Montenegro'\n",
    "df.loc[df.country == 'The Netherlands', 'country'] = 'Netherlands'\n"
   ]
  },
  {
   "cell_type": "markdown",
   "metadata": {},
   "source": [
    "# References\n"
   ]
  },
  {
   "cell_type": "markdown",
   "metadata": {},
   "source": [
    "1.  <a class=\"anchor\" id=\"bib-ESCDB\"></a>Eurovision Song Contest, *Eurovision Song Contest database*, Web page, Geneva: European Broadcasting Union, 2020. [Online]. Available: [http://eschome.net/](http://eschome.net/) (visited on 15/12/2020).\n",
    "2.  <a class=\"anchor\" id=\"bib-EVW\"></a>Eurovisionworld, *Eurovision voting &amp; points*, Web page, Eurovisionworld, 2020. [Online]. Available: [http://eurovisionworld.com/eurovision](http://eurovisionworld.com/eurovision) (visited on 15/12/2020).\n",
    "3.  <a class=\"anchor\" id=\"bib-Okhuijsen19\"></a>S. Okhuijsen, *Eurovision Song Contest scores $ 1975 $&ndash;$ 2019$*, Web page, Utrecht: Datagraver, 2019. [Online]. Available: [http://data.world/datagraver/eurovision-song-contest-scores-1975-2019](http://data.world/datagraver/eurovision-song-contest-scores-1975-2019) (visited on 19/08/2020).\n"
   ]
  },
  {
   "cell_type": "code",
   "execution_count": null,
   "metadata": {},
   "outputs": [],
   "source": []
  }
 ],
 "metadata": {
  "kernelspec": {
   "display_name": "Python 3",
   "language": "python",
   "name": "python3"
  },
  "language_info": {
   "codemirror_mode": {
    "name": "ipython",
    "version": 3
   },
   "file_extension": ".py",
   "mimetype": "text/x-python",
   "name": "python",
   "nbconvert_exporter": "python",
   "pygments_lexer": "ipython3",
   "version": "3.8.3"
  }
 },
 "nbformat": 4,
 "nbformat_minor": 4
}
